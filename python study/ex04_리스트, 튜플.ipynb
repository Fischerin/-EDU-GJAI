{
 "cells": [
  {
   "cell_type": "markdown",
   "id": "b1a8ee4a",
   "metadata": {},
   "source": [
    "1. ex04_리스트, 튜플\n",
    "\n",
    "- 자료구조(Data Structure)\n",
    "- 여러가지 자료를 하나로 묶어서 관리하기 위함\n",
    "\n",
    "- 리스트(List)\n",
    "- 자료형 구분 없이 하나로 묶을 수 있다.\n",
    "- 인덱스 번호가 존재한다(0, 1, 2, ...)\n",
    "- 대괄호를 통해서 사용, 생성 가능\n",
    "- 추가, 수정, 삭제 가능"
   ]
  },
  {
   "cell_type": "code",
   "execution_count": 2,
   "id": "81b05503",
   "metadata": {},
   "outputs": [
    {
     "data": {
      "text/plain": [
       "[1, 2, 3, 4, 5]"
      ]
     },
     "execution_count": 2,
     "metadata": {},
     "output_type": "execute_result"
    }
   ],
   "source": [
    "list1 = [1, 2, 3, 4, 5]\n",
    "list1"
   ]
  },
  {
   "cell_type": "code",
   "execution_count": 3,
   "id": "ec5a5fc8",
   "metadata": {},
   "outputs": [
    {
     "name": "stdout",
     "output_type": "stream",
     "text": [
      "<class 'list'>\n"
     ]
    }
   ],
   "source": [
    "print(type(list1))"
   ]
  },
  {
   "cell_type": "code",
   "execution_count": 9,
   "id": "159decc1",
   "metadata": {},
   "outputs": [
    {
     "data": {
      "text/plain": [
       "['요나', 20, True, 5.1, [1, 2, 3]]"
      ]
     },
     "execution_count": 9,
     "metadata": {},
     "output_type": "execute_result"
    }
   ],
   "source": [
    "list2=['요나', 20, True, 5.1, [1,2,3]]\n",
    "list2"
   ]
  },
  {
   "cell_type": "code",
   "execution_count": 11,
   "id": "27a65dd4",
   "metadata": {},
   "outputs": [
    {
     "data": {
      "text/plain": [
       "'요나'"
      ]
     },
     "execution_count": 11,
     "metadata": {},
     "output_type": "execute_result"
    }
   ],
   "source": [
    "# '요나'를 가져오고 싶다!\n",
    "list2[0]"
   ]
  },
  {
   "cell_type": "code",
   "execution_count": 12,
   "id": "a0cb49e0",
   "metadata": {},
   "outputs": [
    {
     "data": {
      "text/plain": [
       "20"
      ]
     },
     "execution_count": 12,
     "metadata": {},
     "output_type": "execute_result"
    }
   ],
   "source": [
    "# 두 번째에 있는 숫자를 출력해주세요!\n",
    "list2[1]"
   ]
  },
  {
   "cell_type": "code",
   "execution_count": 13,
   "id": "75789a09",
   "metadata": {},
   "outputs": [
    {
     "data": {
      "text/plain": [
       "[1, 2, 3]"
      ]
     },
     "execution_count": 13,
     "metadata": {},
     "output_type": "execute_result"
    }
   ],
   "source": [
    "list2[-1]"
   ]
  },
  {
   "cell_type": "code",
   "execution_count": 14,
   "id": "3a1d39a3",
   "metadata": {},
   "outputs": [
    {
     "data": {
      "text/plain": [
       "2"
      ]
     },
     "execution_count": 14,
     "metadata": {},
     "output_type": "execute_result"
    }
   ],
   "source": [
    "#2를 출력해주세요. (2차원 리스트)\n",
    "list2[4][1]"
   ]
  },
  {
   "cell_type": "code",
   "execution_count": 17,
   "id": "1c816926",
   "metadata": {},
   "outputs": [
    {
     "name": "stdout",
     "output_type": "stream",
     "text": [
      "8\n",
      "8\n",
      "40\n"
     ]
    }
   ],
   "source": [
    "list3=[3,5,7,1,6,43]\n",
    "\n",
    "#list3의 첫번쨰 값과 두번째 값을 더해서 출력\n",
    "#list3의 세번째 값과 네번쨰 값을 더해서 출력\n",
    "#list3의 맨마지막 값에서 맨 첫번째 값을 뺀 후 출력\n",
    "\n",
    "print(list3[0]+list3[1])\n",
    "print(list3[2]+list3[3])\n",
    "print(list3[-1]-list3[0])"
   ]
  },
  {
   "cell_type": "code",
   "execution_count": 22,
   "id": "d442598f",
   "metadata": {},
   "outputs": [
    {
     "name": "stdout",
     "output_type": "stream",
     "text": [
      "['콜라', '아아', '우유']\n"
     ]
    }
   ],
   "source": [
    "list4 = ['콜라', '아아', '우유', '아침햇살', '솔의눈']\n",
    "\n",
    "print(list4[0:3])"
   ]
  },
  {
   "cell_type": "code",
   "execution_count": 37,
   "id": "05f10c9e",
   "metadata": {},
   "outputs": [
    {
     "name": "stdout",
     "output_type": "stream",
     "text": [
      "['사과', '수박', '오렌지']\n",
      "['사과', '수박']\n"
     ]
    }
   ],
   "source": [
    "list5 = ['사과', '포도', ['수박', '멜론'], '복숭아', '딸기', '오렌지']\n",
    "\n",
    "#인덱싱!\n",
    "fruit1 = list5[0]#사과\n",
    "fruit2 = list5[2][0] #수박\n",
    "fruit3 = list5[-1] #오렌지\n",
    "\n",
    "choice_list = []\n",
    "choice_list.append(fruit1)\n",
    "choice_list.append(fruit2)\n",
    "choice_list.append(fruit3)\n",
    "#리스트명.append(추가할 요소)\n",
    "\n",
    "#append 활용해 사과, 수박, 오렌지 담아주세요!\n",
    "\n",
    "print(choice_list) #사과, 수박, 오렌지\n",
    "\n",
    "#choice_list에서 사과와 수박만 출력해주세요!\n",
    "print(choice_list[0:2])"
   ]
  },
  {
   "cell_type": "code",
   "execution_count": null,
   "id": "f61ace06",
   "metadata": {},
   "outputs": [],
   "source": [
    "#인덱스\n",
    "\n",
    "llist6 = [1,2,5,6,7]\n",
    "list6.insert(2,3) #2번 인덱스에 3이라는 값을 넣겠다."
   ]
  },
  {
   "cell_type": "code",
   "execution_count": 38,
   "id": "ab903483",
   "metadata": {},
   "outputs": [
    {
     "data": {
      "text/plain": [
       "[0, 1, 20, 3, 4]"
      ]
     },
     "execution_count": 38,
     "metadata": {},
     "output_type": "execute_result"
    }
   ],
   "source": [
    "# 리스트 요소 값 수정\n",
    "\n",
    "list7 = [0, 1, 2, 3, 4]\n",
    "list7[2] = 20\n",
    "list7"
   ]
  },
  {
   "cell_type": "code",
   "execution_count": 40,
   "id": "33b0ce9c",
   "metadata": {},
   "outputs": [
    {
     "data": {
      "text/plain": [
       "[0, 3, 40, 3, 4]"
      ]
     },
     "execution_count": 40,
     "metadata": {},
     "output_type": "execute_result"
    }
   ],
   "source": [
    "list7[1:3] = [3, 40]\n",
    "list7"
   ]
  },
  {
   "cell_type": "code",
   "execution_count": 43,
   "id": "06011514",
   "metadata": {},
   "outputs": [
    {
     "data": {
      "text/plain": [
       "[0, 100, 3, 4]"
      ]
     },
     "execution_count": 43,
     "metadata": {},
     "output_type": "execute_result"
    }
   ],
   "source": [
    "list7[1:3] = [100]\n",
    "list7"
   ]
  },
  {
   "cell_type": "code",
   "execution_count": null,
   "id": "242b2512",
   "metadata": {},
   "outputs": [],
   "source": [
    "list7[1:3] = 100\n",
    "list7\n",
    "#자료 타입이 맞지 않음"
   ]
  },
  {
   "cell_type": "code",
   "execution_count": 52,
   "id": "ff4cc874",
   "metadata": {},
   "outputs": [
    {
     "name": "stdout",
     "output_type": "stream",
     "text": [
      "[('h', 'i', 'j'), ['a', 'b', 'c'], 3, 'd', 'e', 'f', 'g', 7]\n"
     ]
    }
   ],
   "source": [
    "list8 = [1, 2, 3, 4, 5]\n",
    "# 1. 숫자 5를 7로 바꾸세요\n",
    "list8[-1] = 7\n",
    "\n",
    "# 2. 숫자 2를 리스트['a', 'b', 'c']로 바꾸세요\n",
    "list8[1] = ['a', 'b', 'c']\n",
    "\n",
    "# 3. 숫자 4, 7을 'd', 'e', 'f', 'g' 로 바꾸세요\n",
    "list8[-2:-1] = ['d', 'e', 'f', 'g']\n",
    "\n",
    "# 4. 숫자 1을 'h', 'i', 'j' 로 바꾸세요\n",
    "list8[0] = 'h', 'i', 'j' #튜플형\n",
    "\n",
    "print(list8)"
   ]
  },
  {
   "cell_type": "code",
   "execution_count": 57,
   "id": "e0c01d08",
   "metadata": {},
   "outputs": [
    {
     "data": {
      "text/plain": [
       "[1, 2, 5]"
      ]
     },
     "execution_count": 57,
     "metadata": {},
     "output_type": "execute_result"
    }
   ],
   "source": [
    "list9 = [1, 2, 3, 4, 5]\n",
    "list9\n",
    "\n",
    "#1. del 삭제할 요소\n",
    "del list9[2]\n",
    "list9\n",
    "\n",
    "#2. 리스트명.remove(삭제할 값)\n",
    "list9.remove(4)\n",
    "list9"
   ]
  },
  {
   "cell_type": "code",
   "execution_count": 59,
   "id": "52dbc6a2",
   "metadata": {},
   "outputs": [
    {
     "data": {
      "text/plain": [
       "2"
      ]
     },
     "execution_count": 59,
     "metadata": {},
     "output_type": "execute_result"
    }
   ],
   "source": [
    "list10 = [1,1,1,2,2,3]\n",
    "list10.remove(1)\n",
    "list10\n",
    "\n",
    "#요소의 개수를 알려주는 함수\n",
    "list10.count(1)"
   ]
  },
  {
   "cell_type": "code",
   "execution_count": null,
   "id": "3616178d",
   "metadata": {},
   "outputs": [],
   "source": []
  },
  {
   "cell_type": "code",
   "execution_count": null,
   "id": "baedc235",
   "metadata": {},
   "outputs": [],
   "source": []
  }
 ],
 "metadata": {
  "kernelspec": {
   "display_name": "Python 3 (ipykernel)",
   "language": "python",
   "name": "python3"
  },
  "language_info": {
   "codemirror_mode": {
    "name": "ipython",
    "version": 3
   },
   "file_extension": ".py",
   "mimetype": "text/x-python",
   "name": "python",
   "nbconvert_exporter": "python",
   "pygments_lexer": "ipython3",
   "version": "3.10.9"
  }
 },
 "nbformat": 4,
 "nbformat_minor": 5
}
