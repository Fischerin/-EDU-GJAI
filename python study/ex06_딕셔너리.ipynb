{
 "cells": [
  {
   "cell_type": "code",
   "execution_count": 3,
   "id": "aa0ccd56",
   "metadata": {},
   "outputs": [
    {
     "data": {
      "text/plain": [
       "{'이름': '나예호', '나이': 21, 'MBTI': 'INFJ'}"
      ]
     },
     "execution_count": 3,
     "metadata": {},
     "output_type": "execute_result"
    }
   ],
   "source": [
    "dic1 = {'이름':'나예호', '나이' :21, 'MBTI':'INFJ'}\n",
    "dic1"
   ]
  },
  {
   "cell_type": "code",
   "execution_count": 5,
   "id": "d289fb26",
   "metadata": {},
   "outputs": [
    {
     "data": {
      "text/plain": [
       "21"
      ]
     },
     "execution_count": 5,
     "metadata": {},
     "output_type": "execute_result"
    }
   ],
   "source": [
    "#딕셔너리 키를 통한 값 불러오기\n",
    "dic1['나이']"
   ]
  },
  {
   "cell_type": "code",
   "execution_count": 6,
   "id": "eb0f8745",
   "metadata": {},
   "outputs": [
    {
     "data": {
      "text/plain": [
       "{'이름': '나예호', '나이': 21, 'MBTI': 'INFJ', '전화번호': '010-1234-5678'}"
      ]
     },
     "execution_count": 6,
     "metadata": {},
     "output_type": "execute_result"
    }
   ],
   "source": [
    "#딕셔너리 값 추가하기\n",
    "dic1['전화번호'] = '010-1234-5678'\n",
    "dic1"
   ]
  },
  {
   "cell_type": "code",
   "execution_count": 7,
   "id": "b068f536",
   "metadata": {},
   "outputs": [
    {
     "data": {
      "text/plain": [
       "{'이름': '나예호', '나이': 22, 'MBTI': 'INFJ', '전화번호': '010-1234-5678'}"
      ]
     },
     "execution_count": 7,
     "metadata": {},
     "output_type": "execute_result"
    }
   ],
   "source": [
    "#딕셔너리 하나의 키에는 하나의 value만 들어갈 수 있다.\n",
    "#딕셔너리 키를 통한 값 수정\n",
    "\n",
    "dic1['나이'] = 22\n",
    "dic1"
   ]
  },
  {
   "cell_type": "code",
   "execution_count": 16,
   "id": "f49f58e7",
   "metadata": {},
   "outputs": [
    {
     "data": {
      "text/plain": [
       "'손오공'"
      ]
     },
     "execution_count": 16,
     "metadata": {},
     "output_type": "execute_result"
    }
   ],
   "source": [
    "#딕셔너리를 활용해\n",
    "dic_music = {'노래제목': '손오공'}\n",
    "dic_music['가수'] = '세븐틴'\n",
    "\n",
    "dic_music['노래제목']\n",
    "dic_music.get('노래제목')\n",
    "\n",
    "#노래제목: 손오공\n",
    "#가수: 세븐틴"
   ]
  },
  {
   "cell_type": "code",
   "execution_count": 18,
   "id": "000808a1",
   "metadata": {},
   "outputs": [
    {
     "data": {
      "text/plain": [
       "dict_keys(['이름', '나이', 'MBTI', '전화번호'])"
      ]
     },
     "execution_count": 18,
     "metadata": {},
     "output_type": "execute_result"
    }
   ],
   "source": [
    "dic1.keys()"
   ]
  },
  {
   "cell_type": "code",
   "execution_count": 19,
   "id": "c5a699a1",
   "metadata": {},
   "outputs": [
    {
     "data": {
      "text/plain": [
       "dict_values(['나예호', 22, 'INFJ', '010-1234-5678'])"
      ]
     },
     "execution_count": 19,
     "metadata": {},
     "output_type": "execute_result"
    }
   ],
   "source": [
    "dic1.values()"
   ]
  },
  {
   "cell_type": "code",
   "execution_count": 21,
   "id": "6115497f",
   "metadata": {},
   "outputs": [
    {
     "data": {
      "text/plain": [
       "{}"
      ]
     },
     "execution_count": 21,
     "metadata": {},
     "output_type": "execute_result"
    }
   ],
   "source": [
    "dic1 = {}\n",
    "dic1.clear()\n",
    "dic1"
   ]
  },
  {
   "cell_type": "code",
   "execution_count": 59,
   "id": "bb87a6c1",
   "metadata": {},
   "outputs": [
    {
     "name": "stdout",
     "output_type": "stream",
     "text": [
      "122\n",
      "30.5\n"
     ]
    }
   ],
   "source": [
    "dic_team = {}\n",
    "\n",
    "dic_nayeho = {'이름':'나예호', '나이':30}\n",
    "dic_mj = {'이름':'송솔', '나이':37}\n",
    "dic_jy = {'이름':'강유빈', '나이':30}\n",
    "dic_yh = {'이름':'김도운', '나이':25}\n",
    "\n",
    "dic_team['팀원1'] = dic_nayeho\n",
    "dic_team['팀원2'] = dic_mj\n",
    "dic_team['팀원3'] = dic_jy\n",
    "dic_team['팀원4'] = dic_yh\n",
    "\n",
    "dic_team\n",
    "\n",
    "\n",
    "#우리 팀원의 나이 총 합\n",
    "\n",
    "total = 0\n",
    "list_team = list(dic_team.values())\n",
    "\n",
    "for i in range(len(list_team)):\n",
    "\n",
    "    total += list_team[i]['나이']\n",
    "\n",
    "print(total)\n",
    "print(total/len(list_team))\n",
    "\n",
    "\n",
    "\n",
    "#인덱싱하려면 리스트나 튜플\n",
    "#타입을 확인하고 자료형을 변환한다!!!\n",
    "#리스트 //////////////// 나이!\n"
   ]
  },
  {
   "cell_type": "code",
   "execution_count": 114,
   "id": "f131aad7",
   "metadata": {},
   "outputs": [
    {
     "name": "stdout",
     "output_type": "stream",
     "text": [
      "270\n",
      "550\n",
      "785\n",
      "196\n"
     ]
    }
   ],
   "source": [
    "# 평균 점수 구하기\n",
    "dic_members = {'홍길동':{'수학':50, '국어':70, '영어':80},\n",
    "               '김인공':{'국어':70, '영어':60, '수학':90},\n",
    "              '박사관':{'영어':65, '수학':50, '국어':100},\n",
    "              '조학교':{'수학':80, '국어':40, '영어':30}}\n",
    "dic_members\n",
    "\n",
    "#수학점수 평균\n",
    "\n",
    "total = 0\n",
    "# scores = list(dic_members.values())\n",
    "\n",
    "scores = list(dic_members.values())\n",
    "# total_korean = list(dic_members.values())[i]['국어']\n",
    "# total_english = list(dic_members.values())[i]['영어']\n",
    "\n",
    "for i in range(len(dic_members)):\n",
    "    total += scores[i]['수학']\n",
    "print(total)\n",
    "    \n",
    "for i in range(len(dic_members)):\n",
    "    total += scores[i]['국어']\n",
    "print(total)\n",
    "    \n",
    "for i in range(len(dic_members)):\n",
    "    total += scores[i]['영어']\n",
    "print(total)\n",
    "print(total // len(dic_members))\n",
    "#     total += total_korean\n",
    "#     total += total_english\n",
    "\n",
    "\n",
    "    \n",
    "\n",
    "# avg_math = total_math / len(scores)\n",
    "# avg_korean = total_korean / len(scores)\n",
    "# avg_english = total_english / len(scores)\n",
    "\n",
    "# print(f'수학: {}점', '국어: {}', '영어: {})\n",
    "#국어점수 평균\n",
    "\n",
    "\n",
    "#영어점수 평균\n"
   ]
  },
  {
   "cell_type": "code",
   "execution_count": 88,
   "id": "845d84e4",
   "metadata": {},
   "outputs": [],
   "source": [
    "scores = list(dic_members.values())\n"
   ]
  },
  {
   "cell_type": "code",
   "execution_count": null,
   "id": "2a6c078b",
   "metadata": {},
   "outputs": [],
   "source": []
  },
  {
   "cell_type": "code",
   "execution_count": null,
   "id": "b5427c61",
   "metadata": {},
   "outputs": [],
   "source": []
  },
  {
   "cell_type": "code",
   "execution_count": null,
   "id": "79abab6d",
   "metadata": {},
   "outputs": [],
   "source": []
  },
  {
   "cell_type": "code",
   "execution_count": null,
   "id": "20342444",
   "metadata": {},
   "outputs": [],
   "source": []
  },
  {
   "cell_type": "code",
   "execution_count": null,
   "id": "a0bb1769",
   "metadata": {},
   "outputs": [],
   "source": []
  },
  {
   "cell_type": "code",
   "execution_count": null,
   "id": "110be9f3",
   "metadata": {},
   "outputs": [],
   "source": []
  }
 ],
 "metadata": {
  "kernelspec": {
   "display_name": "Python 3 (ipykernel)",
   "language": "python",
   "name": "python3"
  },
  "language_info": {
   "codemirror_mode": {
    "name": "ipython",
    "version": 3
   },
   "file_extension": ".py",
   "mimetype": "text/x-python",
   "name": "python",
   "nbconvert_exporter": "python",
   "pygments_lexer": "ipython3",
   "version": "3.10.9"
  }
 },
 "nbformat": 4,
 "nbformat_minor": 5
}
