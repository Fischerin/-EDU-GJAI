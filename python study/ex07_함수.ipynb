{
 "cells": [
  {
   "cell_type": "code",
   "execution_count": null,
   "id": "c5f3d7f6",
   "metadata": {},
   "outputs": [],
   "source": [
    "#몬스터를 잡았다.\n",
    "#첫번째 : 기본 경험치\n",
    "#두번쨰 : 추가 경험치\n",
    "\n",
    "print(3+5)\n",
    "print(5+7)\n",
    "print(11+25)\n",
    "print(24+35)"
   ]
  },
  {
   "cell_type": "markdown",
   "id": "b2454dca",
   "metadata": {},
   "source": [
    "# 함수(function)\n",
    "- 함수 정의\n",
    "- 함수 호출"
   ]
  },
  {
   "cell_type": "markdown",
   "id": "ac8fda14",
   "metadata": {},
   "source": [
    "def 함수명(매개변수1, 매개변수2):\n",
    "    실행문장\n",
    "    return 리턴값"
   ]
  },
  {
   "cell_type": "code",
   "execution_count": null,
   "id": "b4504845",
   "metadata": {},
   "outputs": [],
   "source": [
    "# 두 개의 숫자가 주어지면\n",
    "# 두 값을 더해서 출력!!\n",
    "\n",
    "def addNumber(num1, num2):\n",
    "    result = num1*2 + num2\n",
    "    print(result)"
   ]
  },
  {
   "cell_type": "code",
   "execution_count": null,
   "id": "f81836c5",
   "metadata": {},
   "outputs": [],
   "source": [
    "# 함수의 호출\n",
    "count(전달인자1, 전달인자2)"
   ]
  },
  {
   "cell_type": "code",
   "execution_count": null,
   "id": "c03a0e1c",
   "metadata": {},
   "outputs": [],
   "source": [
    "addNumber(3, 5)"
   ]
  },
  {
   "cell_type": "markdown",
   "id": "4bb823e3",
   "metadata": {},
   "source": [
    "# 2 리턴 여부!!"
   ]
  },
  {
   "cell_type": "code",
   "execution_count": null,
   "id": "e871856f",
   "metadata": {},
   "outputs": [],
   "source": [
    "def subNumber(num1, num2):\n",
    "    result = num1-num2\n",
    "    return result"
   ]
  },
  {
   "cell_type": "code",
   "execution_count": null,
   "id": "3afabd11",
   "metadata": {},
   "outputs": [],
   "source": [
    "print(subNumber(10, 5))\n",
    "print(subNumber(20, 10))\n",
    "#프린트를 꼭 넣어줘야함!\n",
    "\n",
    "#리턴의 장점: \n",
    "subNumber(10, 5)+subNumber(20, 10)"
   ]
  },
  {
   "cell_type": "markdown",
   "id": "5380d90f",
   "metadata": {},
   "source": [
    "# 3 계산기 프로그램 "
   ]
  },
  {
   "cell_type": "code",
   "execution_count": null,
   "id": "1c2af355",
   "metadata": {},
   "outputs": [],
   "source": [
    "def cal(num1, num2, op):\n",
    "    \"\"\"\n",
    "    \n",
    "    주석처리!\n",
    "    두개의 숫자와 연산자를 받아서 계산하는 프로그램\n",
    "    함수에 두고 shift + tap\n",
    "    \n",
    "    \n",
    "    \"\"\"\n",
    "    if op == '+':\n",
    "        print(num1+num2)\n",
    "    elif op == '*':\n",
    "        print(num1*num2)\n",
    "    elif op == '-':\n",
    "        print(num1-num2)\n",
    "    else:\n",
    "        print(num1 / num2)\n",
    "            "
   ]
  },
  {
   "cell_type": "code",
   "execution_count": null,
   "id": "e1e2dfec",
   "metadata": {},
   "outputs": [],
   "source": [
    "cal(3,2,'/')"
   ]
  },
  {
   "cell_type": "markdown",
   "id": "4aa27ddc",
   "metadata": {},
   "source": [
    "# 4 가변 매개변수를 활용한 함수"
   ]
  },
  {
   "cell_type": "code",
   "execution_count": null,
   "id": "4e979b1c",
   "metadata": {},
   "outputs": [],
   "source": [
    "def add(*args):\n",
    "    total = 0\n",
    "    for num in args:\n",
    "        total += num\n",
    "        print(total)\n",
    "    \n",
    "    \n",
    "    #arguments #소괄호 자료형 튜플형태로 args가 정의됨"
   ]
  },
  {
   "cell_type": "code",
   "execution_count": null,
   "id": "f9f0de6d",
   "metadata": {},
   "outputs": [],
   "source": [
    "add(1,2,3,4)"
   ]
  },
  {
   "cell_type": "markdown",
   "id": "bb36e335",
   "metadata": {},
   "source": [
    "# 5 return\n",
    "- 함수 하나에 하나씩 정의할 수 있음"
   ]
  },
  {
   "cell_type": "code",
   "execution_count": null,
   "id": "031ecb29",
   "metadata": {},
   "outputs": [],
   "source": [
    "def absolute(num):\n",
    "    if num > 0:\n",
    "        return num\n",
    "    else:\n",
    "        return num*(-1) #if 함수는 둘 중 하나만 작동하므로 둘 다 써도 가능"
   ]
  },
  {
   "cell_type": "code",
   "execution_count": null,
   "id": "2b068509",
   "metadata": {},
   "outputs": [],
   "source": [
    "absolute(-5)"
   ]
  },
  {
   "cell_type": "markdown",
   "id": "a9229af6",
   "metadata": {},
   "source": [
    "# 6 모듈화"
   ]
  },
  {
   "cell_type": "code",
   "execution_count": 2,
   "id": "1253e7e6",
   "metadata": {},
   "outputs": [
    {
     "name": "stdout",
     "output_type": "stream",
     "text": [
      "누구얌님 안녕하세요\n"
     ]
    }
   ],
   "source": [
    "import yonareim\n",
    "\n",
    "yonareim.hello('누구얌')"
   ]
  },
  {
   "cell_type": "code",
   "execution_count": 3,
   "id": "4eb0e414",
   "metadata": {},
   "outputs": [],
   "source": []
  },
  {
   "cell_type": "code",
   "execution_count": null,
   "id": "de85ba66",
   "metadata": {},
   "outputs": [],
   "source": []
  },
  {
   "cell_type": "code",
   "execution_count": null,
   "id": "5f04d695",
   "metadata": {},
   "outputs": [],
   "source": []
  },
  {
   "cell_type": "code",
   "execution_count": null,
   "id": "9e425f67",
   "metadata": {},
   "outputs": [],
   "source": []
  },
  {
   "cell_type": "code",
   "execution_count": null,
   "id": "a8a81cb3",
   "metadata": {},
   "outputs": [],
   "source": []
  }
 ],
 "metadata": {
  "kernelspec": {
   "display_name": "Python 3 (ipykernel)",
   "language": "python",
   "name": "python3"
  },
  "language_info": {
   "codemirror_mode": {
    "name": "ipython",
    "version": 3
   },
   "file_extension": ".py",
   "mimetype": "text/x-python",
   "name": "python",
   "nbconvert_exporter": "python",
   "pygments_lexer": "ipython3",
   "version": "3.10.9"
  }
 },
 "nbformat": 4,
 "nbformat_minor": 5
}
