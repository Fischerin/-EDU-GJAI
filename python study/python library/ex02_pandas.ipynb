{
 "cells": [
  {
   "cell_type": "markdown",
   "id": "c84981c4",
   "metadata": {},
   "source": [
    "### pandas 라이브러리\n",
    "- series: 1차원 배열 구조 인덱스+값을 1:1로 가진다\n",
    "- dataframe:2차원배열구조 행과열을 가지는 표와 같은 형태"
   ]
  },
  {
   "cell_type": "code",
   "execution_count": 4,
   "id": "2b89d6ca",
   "metadata": {},
   "outputs": [],
   "source": [
    "#pandas 라이브러리 불러오기!\n",
    "import pandas as pd"
   ]
  },
  {
   "cell_type": "code",
   "execution_count": 5,
   "id": "c8a61812",
   "metadata": {},
   "outputs": [
    {
     "data": {
      "text/plain": [
       "0    9668465\n",
       "1    3391946\n",
       "2    2942858\n",
       "3    1450062\n",
       "dtype: int64"
      ]
     },
     "execution_count": 5,
     "metadata": {},
     "output_type": "execute_result"
    }
   ],
   "source": [
    "#series 생성하기\n",
    "population = pd.Series([9668465,3391946,2942858,1450062])\n",
    "population"
   ]
  },
  {
   "cell_type": "code",
   "execution_count": 6,
   "id": "d4aa4892",
   "metadata": {},
   "outputs": [
    {
     "data": {
      "text/plain": [
       "서울    9668465\n",
       "부산    3391946\n",
       "인천    2942858\n",
       "광주    1450062\n",
       "dtype: int64"
      ]
     },
     "execution_count": 6,
     "metadata": {},
     "output_type": "execute_result"
    }
   ],
   "source": [
    "# index를 지정하면서 Series 생성해보기\n",
    "population = pd.Series([9668465,3391946,2942858,1450062],\n",
    "                      index = ['서울','부산','인천','광주'])\n",
    "population"
   ]
  },
  {
   "cell_type": "markdown",
   "id": "a41a2f05",
   "metadata": {},
   "source": [
    "##### Series 데이터 확인 속성\n",
    "- value: 데이터의 값 확인\n",
    "- index: 인덱스 값 확인\n",
    "- dtype: 데이터 타입 확인"
   ]
  },
  {
   "cell_type": "code",
   "execution_count": 7,
   "id": "bca83853",
   "metadata": {},
   "outputs": [
    {
     "data": {
      "text/plain": [
       "array([9668465, 3391946, 2942858, 1450062], dtype=int64)"
      ]
     },
     "execution_count": 7,
     "metadata": {},
     "output_type": "execute_result"
    }
   ],
   "source": [
    "# Series 데이터 값 확인(value)\n",
    "population.values"
   ]
  },
  {
   "cell_type": "code",
   "execution_count": 8,
   "id": "563963ca",
   "metadata": {},
   "outputs": [
    {
     "data": {
      "text/plain": [
       "Index(['서울', '부산', '인천', '광주'], dtype='object')"
      ]
     },
     "execution_count": 8,
     "metadata": {},
     "output_type": "execute_result"
    }
   ],
   "source": [
    "# Series 데이터 인덱스 확인(index)\n",
    "population.index"
   ]
  },
  {
   "cell_type": "code",
   "execution_count": 9,
   "id": "6c875195",
   "metadata": {},
   "outputs": [
    {
     "data": {
      "text/plain": [
       "dtype('int64')"
      ]
     },
     "execution_count": 9,
     "metadata": {},
     "output_type": "execute_result"
    }
   ],
   "source": [
    "# Series 데이터타입 확인(dtype)\n",
    "population.dtype\n",
    "# index값은 고정되어 있기 때문에 dtype을 출력해보면 실제 valuedp 대한 타입을 알려줌"
   ]
  },
  {
   "cell_type": "markdown",
   "id": "51243984",
   "metadata": {},
   "source": [
    "### 1.1 Series이름 지정하기(데이터 정보 나타내주기)"
   ]
  },
  {
   "cell_type": "code",
   "execution_count": 10,
   "id": "2f5fe961",
   "metadata": {},
   "outputs": [
    {
     "data": {
      "text/plain": [
       "도시\n",
       "서울    9668465\n",
       "부산    3391946\n",
       "인천    2942858\n",
       "광주    1450062\n",
       "Name: 인구, dtype: int64"
      ]
     },
     "execution_count": 10,
     "metadata": {},
     "output_type": "execute_result"
    }
   ],
   "source": [
    "population.name = '인구'\n",
    "#인덱스 이름 지정하기\n",
    "population.index.name = '도시'\n",
    "population"
   ]
  },
  {
   "cell_type": "markdown",
   "id": "22326dd9",
   "metadata": {},
   "source": [
    "#### Series 연산\n",
    "- Series 데이터 value => 넘파이 배열형태\n",
    "- 요소별 연산이 가능!"
   ]
  },
  {
   "cell_type": "code",
   "execution_count": 11,
   "id": "40eaab5b",
   "metadata": {},
   "outputs": [
    {
     "data": {
      "text/plain": [
       "array([9668465, 3391946, 2942858, 1450062], dtype=int64)"
      ]
     },
     "execution_count": 11,
     "metadata": {},
     "output_type": "execute_result"
    }
   ],
   "source": [
    "population.values"
   ]
  },
  {
   "cell_type": "code",
   "execution_count": 12,
   "id": "7cb9b750",
   "metadata": {},
   "outputs": [
    {
     "data": {
      "text/plain": [
       "도시\n",
       "서울    9.668465\n",
       "부산    3.391946\n",
       "인천    2.942858\n",
       "광주    1.450062\n",
       "Name: 인구, dtype: float64"
      ]
     },
     "execution_count": 12,
     "metadata": {},
     "output_type": "execute_result"
    }
   ],
   "source": [
    "population/ 1000000\n",
    "#각 요소별로 연산이 진행"
   ]
  },
  {
   "cell_type": "markdown",
   "id": "737d4240",
   "metadata": {},
   "source": [
    "#### 인덱싱 슬라이싱"
   ]
  },
  {
   "cell_type": "code",
   "execution_count": 13,
   "id": "ab7bdba9",
   "metadata": {},
   "outputs": [
    {
     "data": {
      "text/plain": [
       "3391946"
      ]
     },
     "execution_count": 13,
     "metadata": {},
     "output_type": "execute_result"
    }
   ],
   "source": [
    "# population 에서 부산의 인구수만 출력\n",
    "population[1]"
   ]
  },
  {
   "cell_type": "code",
   "execution_count": null,
   "id": "815e8f59",
   "metadata": {},
   "outputs": [],
   "source": [
    "#지정한 인덱스 이름으로도 인덱싱 가능\n",
    "population['부산']"
   ]
  },
  {
   "cell_type": "code",
   "execution_count": 35,
   "id": "865cb120",
   "metadata": {},
   "outputs": [
    {
     "data": {
      "text/plain": [
       "도시\n",
       "광주    1450062\n",
       "서울    9668465\n",
       "서울    9668465\n",
       "Name: 인구, dtype: int64"
      ]
     },
     "execution_count": 35,
     "metadata": {},
     "output_type": "execute_result"
    }
   ],
   "source": [
    "# 광주, 서울, 부산\n",
    "# 인덱스 할거야 [] -> 리스트야 [] \n",
    "population[['광주','서울','서울']]"
   ]
  },
  {
   "cell_type": "code",
   "execution_count": 36,
   "id": "9ceff9f8",
   "metadata": {},
   "outputs": [
    {
     "data": {
      "text/plain": [
       "도시\n",
       "서울    9668465\n",
       "부산    3391946\n",
       "Name: 인구, dtype: int64"
      ]
     },
     "execution_count": 36,
     "metadata": {},
     "output_type": "execute_result"
    }
   ],
   "source": [
    "# 불리언 인덱싱(조건이 참인 값들만 출력) #전체데이터[조건]\n",
    "# 인구가 300만 이상인 도시만 출력\n",
    "\n",
    "population[population >=3000000]"
   ]
  },
  {
   "cell_type": "code",
   "execution_count": 45,
   "id": "64dca6e5",
   "metadata": {},
   "outputs": [
    {
     "data": {
      "text/plain": [
       "도시\n",
       "부산    3391946\n",
       "인천    2942858\n",
       "Name: 인구, dtype: int64"
      ]
     },
     "execution_count": 45,
     "metadata": {},
     "output_type": "execute_result"
    }
   ],
   "source": [
    "# 다중조건\n",
    "# 인구수가 250만 이상 500만 이하의 도시 찾기! --> 부산, 인천\n",
    "# 논리연산자(and)\n",
    "# 라이브러리에서는 논리연산자 예약어 사용xx\n",
    "# 조건들에 소괄호 필요\n",
    "\n",
    "population[(5000000 >= population) & (population >= 2500000)]"
   ]
  },
  {
   "cell_type": "code",
   "execution_count": 46,
   "id": "41e0392c",
   "metadata": {},
   "outputs": [
    {
     "data": {
      "text/plain": [
       "도시\n",
       "부산    3391946\n",
       "인천    2942858\n",
       "Name: 인구, dtype: int64"
      ]
     },
     "execution_count": 46,
     "metadata": {},
     "output_type": "execute_result"
    }
   ],
   "source": [
    "# 슬라이싱 :\n",
    "# 변수명[시작인덱스: 끝인덱스+1]\n",
    "population[\"부산\":\"인천\"]\n",
    "#population2[1:\"광주\"]\n",
    "#인덱스번호와 인덱스명 섞어서는 안됨"
   ]
  },
  {
   "cell_type": "markdown",
   "id": "241c0108",
   "metadata": {},
   "source": [
    "## dictionary 자료 구조를 활용하여 Series 생성하기\n",
    "    - key => index\n",
    "    - value => value 형태로 생성됨"
   ]
  },
  {
   "cell_type": "code",
   "execution_count": 47,
   "id": "5cad1de0",
   "metadata": {},
   "outputs": [],
   "source": [
    "#포켓몬 이름 : 능력치의 딕셔너리 생성\n",
    "dic1 = {'피카츄':9500, '치코리타':3000, '마자용':1500, '리자몽':15000}\n",
    "pokemon = pd.Series(dic1)\n",
    "pokemon.name = \"폿켓몬\""
   ]
  },
  {
   "cell_type": "code",
   "execution_count": 48,
   "id": "35485b2d",
   "metadata": {},
   "outputs": [],
   "source": [
    "#레벨업한 포켓몬의 능력치를 작성\n",
    "dic2={'치코리타':6000, '리자몽':18000, '피카츄':11500, '잉어킹':1000, '뮤':2500}\n",
    "pokemonup = pd.Series(dic2)\n",
    "pokemonup.name = \"렙업 후 능력치\""
   ]
  },
  {
   "cell_type": "code",
   "execution_count": 59,
   "id": "9483934b",
   "metadata": {
    "scrolled": true
   },
   "outputs": [
    {
     "name": "stdout",
     "output_type": "stream",
     "text": [
      "리자몽     3000.0\n",
      "치코리타    3000.0\n",
      "피카츄     2000.0\n",
      "dtype: float64\n"
     ]
    }
   ],
   "source": [
    "#레벨업 후 올라간 능력치 차이\n",
    "up_stat = pokemonup - pokemon\n",
    "# 인덱스 번호가 아닌 인덱스 이름이 동일한 데이터끼리 연산됨\n",
    "# 둘중에 하나만 있는 데이터의 경우 NaN(Not a Number) 출력됨(결측치)\n",
    "print(up_stat[up_stat.isnull()])\n",
    "print(up_stat[up_stat.notnull()])\n",
    "print(up_stat[~up_stat.isnull()])"
   ]
  },
  {
   "cell_type": "code",
   "execution_count": null,
   "id": "8d327960",
   "metadata": {},
   "outputs": [],
   "source": []
  },
  {
   "cell_type": "code",
   "execution_count": 54,
   "id": "d0352891",
   "metadata": {},
   "outputs": [
    {
     "data": {
      "text/plain": [
       "리자몽      20.000000\n",
       "마자용            NaN\n",
       "뮤              NaN\n",
       "잉어킹            NaN\n",
       "치코리타    100.000000\n",
       "피카츄      21.052632\n",
       "dtype: float64"
      ]
     },
     "execution_count": 54,
     "metadata": {},
     "output_type": "execute_result"
    }
   ],
   "source": [
    "#레벨업해서 올라간 공격력의 증가율(%)\n",
    "#(레벨업한 데이터 - 원래데이터) / 원래데이터 *100\n",
    "ch = up_stat/pokemon *100\n",
    "ch"
   ]
  },
  {
   "cell_type": "code",
   "execution_count": 55,
   "id": "e6b13135",
   "metadata": {},
   "outputs": [
    {
     "data": {
      "text/plain": [
       "리자몽      20.000000\n",
       "치코리타    100.000000\n",
       "피카츄      21.052632\n",
       "dtype: float64"
      ]
     },
     "execution_count": 55,
     "metadata": {},
     "output_type": "execute_result"
    }
   ],
   "source": [
    "# 비어있지 않은 값들만 출력\n",
    "ch[ch.notnull()]"
   ]
  },
  {
   "cell_type": "code",
   "execution_count": null,
   "id": "cef3a1de",
   "metadata": {},
   "outputs": [],
   "source": []
  },
  {
   "cell_type": "code",
   "execution_count": null,
   "id": "c667ca70",
   "metadata": {},
   "outputs": [],
   "source": []
  },
  {
   "cell_type": "code",
   "execution_count": null,
   "id": "24440f7c",
   "metadata": {},
   "outputs": [],
   "source": []
  }
 ],
 "metadata": {
  "kernelspec": {
   "display_name": "Python 3 (ipykernel)",
   "language": "python",
   "name": "python3"
  },
  "language_info": {
   "codemirror_mode": {
    "name": "ipython",
    "version": 3
   },
   "file_extension": ".py",
   "mimetype": "text/x-python",
   "name": "python",
   "nbconvert_exporter": "python",
   "pygments_lexer": "ipython3",
   "version": "3.10.9"
  }
 },
 "nbformat": 4,
 "nbformat_minor": 5
}
