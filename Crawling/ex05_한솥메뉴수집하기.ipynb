{
 "cells": [
  {
   "cell_type": "code",
   "execution_count": 45,
   "id": "e8bade96",
   "metadata": {},
   "outputs": [],
   "source": [
    "from selenium import webdriver as wb # 통제, 제어 \n",
    "from selenium.webdriver.common.keys import Keys #입력\n",
    "from selenium.webdriver.common.by import By #기준\n",
    "from bs4 import BeautifulSoup as bs #bs객체화\n",
    "\n",
    "import time"
   ]
  },
  {
   "cell_type": "code",
   "execution_count": 47,
   "id": "cce26c7a",
   "metadata": {},
   "outputs": [],
   "source": [
    "driver = wb.Chrome()\n",
    "driver.get('https://www.hsd.co.kr/menu/menu_list')"
   ]
  },
  {
   "cell_type": "code",
   "execution_count": 48,
   "id": "536fdfad",
   "metadata": {},
   "outputs": [],
   "source": [
    "#메뉴명, 가격명 수집\n",
    "#bs 객체화\n",
    "#bs(페이지정보, 'lxml')\n",
    "soup=bs(driver.page_source, 'lxml')"
   ]
  },
  {
   "cell_type": "code",
   "execution_count": 49,
   "id": "179c3e46",
   "metadata": {},
   "outputs": [
    {
     "name": "stdout",
     "output_type": "stream",
     "text": [
      "오리 영양도시락\n",
      "6,900\n"
     ]
    }
   ],
   "source": [
    "menu = soup.select('h4.h.fz_03')\n",
    "print(menu[0].text)\n",
    "\n",
    "price = soup.select('div.item-price>strong')\n",
    "print(price[0].text)"
   ]
  },
  {
   "cell_type": "code",
   "execution_count": 50,
   "id": "960d04cf",
   "metadata": {},
   "outputs": [
    {
     "name": "stdout",
     "output_type": "stream",
     "text": [
      "59\n",
      "59\n"
     ]
    }
   ],
   "source": [
    "print(len(menu))\n",
    "print(len(price))"
   ]
  },
  {
   "cell_type": "markdown",
   "id": "378c2781",
   "metadata": {},
   "source": [
    "### 더보기 버튼 클릭하여 모든 메뉴 수집"
   ]
  },
  {
   "cell_type": "code",
   "execution_count": 51,
   "id": "076a4985",
   "metadata": {},
   "outputs": [],
   "source": [
    "# 더보기 버튼 클릭 driver에게 진행\n",
    "# 더보기 버튼의 위치를 찾아서 가져오기\n",
    "\n",
    "btn_more = driver.find_element(By.CLASS_NAME, 'c_05')\n",
    "btn_more.click()"
   ]
  },
  {
   "cell_type": "code",
   "execution_count": 54,
   "id": "2c3ba88b",
   "metadata": {},
   "outputs": [
    {
     "ename": "ElementNotInteractableException",
     "evalue": "Message: element not interactable\n  (Session info: chrome=114.0.5735.199)\nStacktrace:\nBacktrace:\n\tGetHandleVerifier [0x00CDA813+48355]\n\t(No symbol) [0x00C6C4B1]\n\t(No symbol) [0x00B75220]\n\t(No symbol) [0x00BA1846]\n\t(No symbol) [0x00B99F5C]\n\t(No symbol) [0x00BBA73C]\n\t(No symbol) [0x00B99A36]\n\t(No symbol) [0x00BBAA94]\n\t(No symbol) [0x00BCC922]\n\t(No symbol) [0x00BBA536]\n\t(No symbol) [0x00B982DC]\n\t(No symbol) [0x00B993DD]\n\tGetHandleVerifier [0x00F3AABD+2539405]\n\tGetHandleVerifier [0x00F7A78F+2800735]\n\tGetHandleVerifier [0x00F7456C+2775612]\n\tGetHandleVerifier [0x00D651E0+616112]\n\t(No symbol) [0x00C75F8C]\n\t(No symbol) [0x00C72328]\n\t(No symbol) [0x00C7240B]\n\t(No symbol) [0x00C64FF7]\n\tBaseThreadInitThunk [0x76A97D59+25]\n\tRtlInitializeExceptionChain [0x77A3B74B+107]\n\tRtlClearBits [0x77A3B6CF+191]\n",
     "output_type": "error",
     "traceback": [
      "\u001b[1;31m---------------------------------------------------------------------------\u001b[0m",
      "\u001b[1;31mElementNotInteractableException\u001b[0m           Traceback (most recent call last)",
      "Cell \u001b[1;32mIn[54], line 3\u001b[0m\n\u001b[0;32m      1\u001b[0m \u001b[38;5;28;01mfor\u001b[39;00m i \u001b[38;5;129;01min\u001b[39;00m \u001b[38;5;28mrange\u001b[39m(\u001b[38;5;241m30\u001b[39m):\n\u001b[0;32m      2\u001b[0m     btn_more \u001b[38;5;241m=\u001b[39m driver\u001b[38;5;241m.\u001b[39mfind_element(By\u001b[38;5;241m.\u001b[39mCLASS_NAME, \u001b[38;5;124m'\u001b[39m\u001b[38;5;124mc_05\u001b[39m\u001b[38;5;124m'\u001b[39m)\n\u001b[1;32m----> 3\u001b[0m     \u001b[43mbtn_more\u001b[49m\u001b[38;5;241;43m.\u001b[39;49m\u001b[43mclick\u001b[49m\u001b[43m(\u001b[49m\u001b[43m)\u001b[49m\n\u001b[0;32m      4\u001b[0m     time\u001b[38;5;241m.\u001b[39msleep(\u001b[38;5;241m2\u001b[39m)\n",
      "File \u001b[1;32m~\\anaconda3\\lib\\site-packages\\selenium\\webdriver\\remote\\webelement.py:94\u001b[0m, in \u001b[0;36mWebElement.click\u001b[1;34m(self)\u001b[0m\n\u001b[0;32m     92\u001b[0m \u001b[38;5;28;01mdef\u001b[39;00m \u001b[38;5;21mclick\u001b[39m(\u001b[38;5;28mself\u001b[39m) \u001b[38;5;241m-\u001b[39m\u001b[38;5;241m>\u001b[39m \u001b[38;5;28;01mNone\u001b[39;00m:\n\u001b[0;32m     93\u001b[0m     \u001b[38;5;124;03m\"\"\"Clicks the element.\"\"\"\u001b[39;00m\n\u001b[1;32m---> 94\u001b[0m     \u001b[38;5;28;43mself\u001b[39;49m\u001b[38;5;241;43m.\u001b[39;49m\u001b[43m_execute\u001b[49m\u001b[43m(\u001b[49m\u001b[43mCommand\u001b[49m\u001b[38;5;241;43m.\u001b[39;49m\u001b[43mCLICK_ELEMENT\u001b[49m\u001b[43m)\u001b[49m\n",
      "File \u001b[1;32m~\\anaconda3\\lib\\site-packages\\selenium\\webdriver\\remote\\webelement.py:395\u001b[0m, in \u001b[0;36mWebElement._execute\u001b[1;34m(self, command, params)\u001b[0m\n\u001b[0;32m    393\u001b[0m     params \u001b[38;5;241m=\u001b[39m {}\n\u001b[0;32m    394\u001b[0m params[\u001b[38;5;124m\"\u001b[39m\u001b[38;5;124mid\u001b[39m\u001b[38;5;124m\"\u001b[39m] \u001b[38;5;241m=\u001b[39m \u001b[38;5;28mself\u001b[39m\u001b[38;5;241m.\u001b[39m_id\n\u001b[1;32m--> 395\u001b[0m \u001b[38;5;28;01mreturn\u001b[39;00m \u001b[38;5;28;43mself\u001b[39;49m\u001b[38;5;241;43m.\u001b[39;49m\u001b[43m_parent\u001b[49m\u001b[38;5;241;43m.\u001b[39;49m\u001b[43mexecute\u001b[49m\u001b[43m(\u001b[49m\u001b[43mcommand\u001b[49m\u001b[43m,\u001b[49m\u001b[43m \u001b[49m\u001b[43mparams\u001b[49m\u001b[43m)\u001b[49m\n",
      "File \u001b[1;32m~\\anaconda3\\lib\\site-packages\\selenium\\webdriver\\remote\\webdriver.py:346\u001b[0m, in \u001b[0;36mWebDriver.execute\u001b[1;34m(self, driver_command, params)\u001b[0m\n\u001b[0;32m    344\u001b[0m response \u001b[38;5;241m=\u001b[39m \u001b[38;5;28mself\u001b[39m\u001b[38;5;241m.\u001b[39mcommand_executor\u001b[38;5;241m.\u001b[39mexecute(driver_command, params)\n\u001b[0;32m    345\u001b[0m \u001b[38;5;28;01mif\u001b[39;00m response:\n\u001b[1;32m--> 346\u001b[0m     \u001b[38;5;28;43mself\u001b[39;49m\u001b[38;5;241;43m.\u001b[39;49m\u001b[43merror_handler\u001b[49m\u001b[38;5;241;43m.\u001b[39;49m\u001b[43mcheck_response\u001b[49m\u001b[43m(\u001b[49m\u001b[43mresponse\u001b[49m\u001b[43m)\u001b[49m\n\u001b[0;32m    347\u001b[0m     response[\u001b[38;5;124m\"\u001b[39m\u001b[38;5;124mvalue\u001b[39m\u001b[38;5;124m\"\u001b[39m] \u001b[38;5;241m=\u001b[39m \u001b[38;5;28mself\u001b[39m\u001b[38;5;241m.\u001b[39m_unwrap_value(response\u001b[38;5;241m.\u001b[39mget(\u001b[38;5;124m\"\u001b[39m\u001b[38;5;124mvalue\u001b[39m\u001b[38;5;124m\"\u001b[39m, \u001b[38;5;28;01mNone\u001b[39;00m))\n\u001b[0;32m    348\u001b[0m     \u001b[38;5;28;01mreturn\u001b[39;00m response\n",
      "File \u001b[1;32m~\\anaconda3\\lib\\site-packages\\selenium\\webdriver\\remote\\errorhandler.py:245\u001b[0m, in \u001b[0;36mErrorHandler.check_response\u001b[1;34m(self, response)\u001b[0m\n\u001b[0;32m    243\u001b[0m         alert_text \u001b[38;5;241m=\u001b[39m value[\u001b[38;5;124m\"\u001b[39m\u001b[38;5;124malert\u001b[39m\u001b[38;5;124m\"\u001b[39m]\u001b[38;5;241m.\u001b[39mget(\u001b[38;5;124m\"\u001b[39m\u001b[38;5;124mtext\u001b[39m\u001b[38;5;124m\"\u001b[39m)\n\u001b[0;32m    244\u001b[0m     \u001b[38;5;28;01mraise\u001b[39;00m exception_class(message, screen, stacktrace, alert_text)  \u001b[38;5;66;03m# type: ignore[call-arg]  # mypy is not smart enough here\u001b[39;00m\n\u001b[1;32m--> 245\u001b[0m \u001b[38;5;28;01mraise\u001b[39;00m exception_class(message, screen, stacktrace)\n",
      "\u001b[1;31mElementNotInteractableException\u001b[0m: Message: element not interactable\n  (Session info: chrome=114.0.5735.199)\nStacktrace:\nBacktrace:\n\tGetHandleVerifier [0x00CDA813+48355]\n\t(No symbol) [0x00C6C4B1]\n\t(No symbol) [0x00B75220]\n\t(No symbol) [0x00BA1846]\n\t(No symbol) [0x00B99F5C]\n\t(No symbol) [0x00BBA73C]\n\t(No symbol) [0x00B99A36]\n\t(No symbol) [0x00BBAA94]\n\t(No symbol) [0x00BCC922]\n\t(No symbol) [0x00BBA536]\n\t(No symbol) [0x00B982DC]\n\t(No symbol) [0x00B993DD]\n\tGetHandleVerifier [0x00F3AABD+2539405]\n\tGetHandleVerifier [0x00F7A78F+2800735]\n\tGetHandleVerifier [0x00F7456C+2775612]\n\tGetHandleVerifier [0x00D651E0+616112]\n\t(No symbol) [0x00C75F8C]\n\t(No symbol) [0x00C72328]\n\t(No symbol) [0x00C7240B]\n\t(No symbol) [0x00C64FF7]\n\tBaseThreadInitThunk [0x76A97D59+25]\n\tRtlInitializeExceptionChain [0x77A3B74B+107]\n\tRtlClearBits [0x77A3B6CF+191]\n"
     ]
    }
   ],
   "source": [
    "for i in range(30):\n",
    "    btn_more = driver.find_element(By.CLASS_NAME, 'c_05')\n",
    "    btn_more.click()\n",
    "    time.sleep(2)\n",
    "    \n",
    "# 오류 왜 나는거? 30번 더보기 버튼 클릭 요청 -> 더보기 버튼 개수가 적은 것"
   ]
  },
  {
   "cell_type": "markdown",
   "id": "5ca78021",
   "metadata": {},
   "source": [
    "## 2 예외처리 try, except\n",
    "-try 문에서 코드를 실행하다가 에러가 나면 except 문을 실행"
   ]
  },
  {
   "cell_type": "code",
   "execution_count": 55,
   "id": "22706543",
   "metadata": {},
   "outputs": [
    {
     "name": "stdout",
     "output_type": "stream",
     "text": [
      "클릭완료\n"
     ]
    }
   ],
   "source": [
    "try:\n",
    "    for i in range(30):\n",
    "        btn_more = driver.find_element(By.CLASS_NAME, 'c_05')\n",
    "        btn_more.click()\n",
    "        time.sleep(2)\n",
    "except:\n",
    "    print(\"클릭완료\")"
   ]
  },
  {
   "cell_type": "code",
   "execution_count": 56,
   "id": "58030cf4",
   "metadata": {},
   "outputs": [
    {
     "name": "stdout",
     "output_type": "stream",
     "text": [
      "클릭완료\n"
     ]
    }
   ],
   "source": [
    "# 코드 합치기\n",
    "\n",
    "driver = wb.Chrome()\n",
    "driver.get('https://www.hsd.co.kr/menu/menu_list')\n",
    "\n",
    "try:\n",
    "    for i in range(30):\n",
    "        btn_more = driver.find_element(By.CLASS_NAME, 'c_05')\n",
    "        btn_more.click()\n",
    "        time.sleep(2)\n",
    "except:\n",
    "    print(\"클릭완료\")\n",
    "\n",
    "\n",
    "soup=bs(driver.page_source, 'lxml')\n",
    "\n",
    "\n",
    "menu = soup.select('h4.h.fz_03')\n",
    "price = soup.select('div.item-price>strong')"
   ]
  },
  {
   "cell_type": "code",
   "execution_count": 67,
   "id": "4d528c37",
   "metadata": {},
   "outputs": [
    {
     "data": {
      "text/plain": [
       "['6,900',\n",
       " '2,900',\n",
       " '5,500',\n",
       " '5,500',\n",
       " '4,500',\n",
       " '4,900',\n",
       " '10,000',\n",
       " '10,500',\n",
       " '7,800',\n",
       " '8,500',\n",
       " '6,300',\n",
       " '6,000',\n",
       " '7,000',\n",
       " '6,000',\n",
       " '4,800',\n",
       " '6,600',\n",
       " '5,500',\n",
       " '7,500',\n",
       " '4,400',\n",
       " '6,000',\n",
       " '4,900',\n",
       " '4,800',\n",
       " '4,500',\n",
       " '5,000',\n",
       " '8,600',\n",
       " '9,000',\n",
       " '9,000',\n",
       " '8,000',\n",
       " '7,400',\n",
       " '7,500',\n",
       " '6,900',\n",
       " '4,500',\n",
       " '5,800',\n",
       " '3,900',\n",
       " '6,000',\n",
       " '5,000',\n",
       " '4,300',\n",
       " '3,700',\n",
       " '3,500',\n",
       " '4,000',\n",
       " '4,700',\n",
       " '4,700',\n",
       " '3,900',\n",
       " '4,700',\n",
       " '4,900',\n",
       " '6,200',\n",
       " '4,900',\n",
       " '6,000',\n",
       " '6,000',\n",
       " '5,000',\n",
       " '6,000',\n",
       " '4,200',\n",
       " '4,100',\n",
       " '6,500',\n",
       " '6,500',\n",
       " '5,400',\n",
       " '5,200',\n",
       " '3,500',\n",
       " '5,000',\n",
       " '4,400',\n",
       " '2,900',\n",
       " '3,900',\n",
       " '4,900',\n",
       " '3,800',\n",
       " '3,600',\n",
       " '4,100',\n",
       " '3,500',\n",
       " '2,800',\n",
       " '2,900',\n",
       " '2,200',\n",
       " '2,200',\n",
       " '2,000',\n",
       " '2,700',\n",
       " '2,800',\n",
       " '2,200',\n",
       " '1,900',\n",
       " '3,500',\n",
       " '8,500',\n",
       " '7,500',\n",
       " '4,000',\n",
       " '4,000',\n",
       " '8,500',\n",
       " '3,500',\n",
       " '400',\n",
       " '1,300',\n",
       " '1,300',\n",
       " '500',\n",
       " '600',\n",
       " '1,800',\n",
       " '500',\n",
       " '500',\n",
       " '400',\n",
       " '500',\n",
       " '1,000',\n",
       " '1,700',\n",
       " '1,700',\n",
       " '2,200']"
      ]
     },
     "execution_count": 67,
     "metadata": {},
     "output_type": "execute_result"
    }
   ],
   "source": [
    "menu_list = []\n",
    "price_list = []\n",
    "rank_list = []\n",
    "\n",
    "for i in range(len(menu)):\n",
    "    menu_list.append(menu[i].text)\n",
    "    price_list.append(price[i].text)\n",
    "    rank_list.append(i+1)\n",
    "    \n",
    "\n",
    "menu_list\n",
    "price_list"
   ]
  },
  {
   "cell_type": "code",
   "execution_count": 71,
   "id": "bc284800",
   "metadata": {},
   "outputs": [
    {
     "data": {
      "text/plain": [
       "{'menu': ['오리 영양도시락',\n",
       "  '통살 오징어튀김',\n",
       "  '미나리 오징어 덮밥(매운맛)',\n",
       "  '미나리 오징어 덮밥(오리지널)',\n",
       "  '열무 감초고추장 비빔밥',\n",
       "  '열무 두부강된장 비빔밥',\n",
       "  '해바라기',\n",
       "  '매화',\n",
       "  '진달래',\n",
       "  '개나리',\n",
       "  '돈까스도련님고기고기',\n",
       "  '탕수육도련님고기고기',\n",
       "  '새치 고기고기',\n",
       "  '돈치 고기고기',\n",
       "  '카츠카츠 도시락',\n",
       "  '숯불직화구이',\n",
       "  '소불고기',\n",
       "  '메가치킨제육',\n",
       "  '칠리 찹쌀탕수육도련님',\n",
       "  '동백',\n",
       "  '치킨제육',\n",
       "  '돈까스도련님',\n",
       "  '제육볶음',\n",
       "  '돈치스팸 도시락',\n",
       "  '제육 김치찌개 정식',\n",
       "  '제육 김치 부대찌개 정식',\n",
       "  '돈치스팸 김치 부대찌개 정식',\n",
       "  '빅치킨마요 김치 부대찌개 정식',\n",
       "  '치킨마요 김치 부대찌개 정식',\n",
       "  '빅치킨마요 김치찌개 정식',\n",
       "  '치킨마요 김치찌개 정식',\n",
       "  '새후마요',\n",
       "  '메가스팸마요',\n",
       "  '스팸마요',\n",
       "  '메가치킨마요',\n",
       "  '왕치킨마요',\n",
       "  '빅치킨마요',\n",
       "  '치킨마요',\n",
       "  '참치마요',\n",
       "  '돈치마요',\n",
       "  '돈까스 카레',\n",
       "  '스팸 김치볶음밥',\n",
       "  '김치볶음밥',\n",
       "  '스팸철판볶음밥',\n",
       "  '소불고기 철판볶음밥',\n",
       "  '나시고랭',\n",
       "  '묵은지 김치찌개',\n",
       "  '김치 부대찌개',\n",
       "  '숯불직화구이 덮밥',\n",
       "  '마파두부 덮밥',\n",
       "  '왕카레돈까스덮밥',\n",
       "  '새우돈까스 덮밥',\n",
       "  '돈까스 덮밥',\n",
       "  '아보카도 훈제 닭가슴살 명란 비빔밥',\n",
       "  '아보카도 소불고기 명란 비빔밥',\n",
       "  '소불고기 감초고추장 비빔밥',\n",
       "  '시골제육 두부강된장 비빔밥',\n",
       "  '참치야채 감초고추장',\n",
       "  '튼튼도시락',\n",
       "  '반찬 묵은지김치찌개',\n",
       "  '반찬 카레',\n",
       "  '반찬 순살 고등어 간장구이',\n",
       "  '반찬 김치 부대찌개',\n",
       "  '반찬 치킨',\n",
       "  '반찬 고기고기',\n",
       "  '반찬 돈까스 도련님',\n",
       "  '반찬 제육볶음',\n",
       "  '반찬 토네이도 소세지',\n",
       "  '반찬 반달돈까스',\n",
       "  '치즈버터 해시 포테이토 스틱',\n",
       "  '허니버터 해시 포테이토 스틱',\n",
       "  '해시 포테이토 스틱',\n",
       "  '뉴 감자고로케',\n",
       "  '미니 찹쌀핫도그',\n",
       "  '미니 찹쌀탕수육',\n",
       "  '케이준후라이',\n",
       "  '통현미 닭강정(소)',\n",
       "  '통현미 닭강정(중)',\n",
       "  '후라이드 순살(중)',\n",
       "  '후라이드 순살(소)_양념치킨소스',\n",
       "  '후라이드 순살(소)_케이준소스',\n",
       "  '오리지널 닭강정(중)',\n",
       "  '오리지널 닭강정(소)',\n",
       "  '반찬 무생채',\n",
       "  '3종 미니반찬B',\n",
       "  '3종 미니반찬A',\n",
       "  '반찬 열무김치',\n",
       "  '오징어젓갈',\n",
       "  '한솥 두부강된장소스',\n",
       "  '한솥 감초볶음고추장소스',\n",
       "  '볶음김치',\n",
       "  '김치',\n",
       "  '무말랭이 무침',\n",
       "  '한솥밥',\n",
       "  '현미밥',\n",
       "  '리얼 티라미수 찰떡',\n",
       "  '리얼꿀 미니호떡'],\n",
       " 'price': ['6,900',\n",
       "  '2,900',\n",
       "  '5,500',\n",
       "  '5,500',\n",
       "  '4,500',\n",
       "  '4,900',\n",
       "  '10,000',\n",
       "  '10,500',\n",
       "  '7,800',\n",
       "  '8,500',\n",
       "  '6,300',\n",
       "  '6,000',\n",
       "  '7,000',\n",
       "  '6,000',\n",
       "  '4,800',\n",
       "  '6,600',\n",
       "  '5,500',\n",
       "  '7,500',\n",
       "  '4,400',\n",
       "  '6,000',\n",
       "  '4,900',\n",
       "  '4,800',\n",
       "  '4,500',\n",
       "  '5,000',\n",
       "  '8,600',\n",
       "  '9,000',\n",
       "  '9,000',\n",
       "  '8,000',\n",
       "  '7,400',\n",
       "  '7,500',\n",
       "  '6,900',\n",
       "  '4,500',\n",
       "  '5,800',\n",
       "  '3,900',\n",
       "  '6,000',\n",
       "  '5,000',\n",
       "  '4,300',\n",
       "  '3,700',\n",
       "  '3,500',\n",
       "  '4,000',\n",
       "  '4,700',\n",
       "  '4,700',\n",
       "  '3,900',\n",
       "  '4,700',\n",
       "  '4,900',\n",
       "  '6,200',\n",
       "  '4,900',\n",
       "  '6,000',\n",
       "  '6,000',\n",
       "  '5,000',\n",
       "  '6,000',\n",
       "  '4,200',\n",
       "  '4,100',\n",
       "  '6,500',\n",
       "  '6,500',\n",
       "  '5,400',\n",
       "  '5,200',\n",
       "  '3,500',\n",
       "  '5,000',\n",
       "  '4,400',\n",
       "  '2,900',\n",
       "  '3,900',\n",
       "  '4,900',\n",
       "  '3,800',\n",
       "  '3,600',\n",
       "  '4,100',\n",
       "  '3,500',\n",
       "  '2,800',\n",
       "  '2,900',\n",
       "  '2,200',\n",
       "  '2,200',\n",
       "  '2,000',\n",
       "  '2,700',\n",
       "  '2,800',\n",
       "  '2,200',\n",
       "  '1,900',\n",
       "  '3,500',\n",
       "  '8,500',\n",
       "  '7,500',\n",
       "  '4,000',\n",
       "  '4,000',\n",
       "  '8,500',\n",
       "  '3,500',\n",
       "  '400',\n",
       "  '1,300',\n",
       "  '1,300',\n",
       "  '500',\n",
       "  '600',\n",
       "  '1,800',\n",
       "  '500',\n",
       "  '500',\n",
       "  '400',\n",
       "  '500',\n",
       "  '1,000',\n",
       "  '1,700',\n",
       "  '1,700',\n",
       "  '2,200'],\n",
       " '순서': [1,\n",
       "  2,\n",
       "  3,\n",
       "  4,\n",
       "  5,\n",
       "  6,\n",
       "  7,\n",
       "  8,\n",
       "  9,\n",
       "  10,\n",
       "  11,\n",
       "  12,\n",
       "  13,\n",
       "  14,\n",
       "  15,\n",
       "  16,\n",
       "  17,\n",
       "  18,\n",
       "  19,\n",
       "  20,\n",
       "  21,\n",
       "  22,\n",
       "  23,\n",
       "  24,\n",
       "  25,\n",
       "  26,\n",
       "  27,\n",
       "  28,\n",
       "  29,\n",
       "  30,\n",
       "  31,\n",
       "  32,\n",
       "  33,\n",
       "  34,\n",
       "  35,\n",
       "  36,\n",
       "  37,\n",
       "  38,\n",
       "  39,\n",
       "  40,\n",
       "  41,\n",
       "  42,\n",
       "  43,\n",
       "  44,\n",
       "  45,\n",
       "  46,\n",
       "  47,\n",
       "  48,\n",
       "  49,\n",
       "  50,\n",
       "  51,\n",
       "  52,\n",
       "  53,\n",
       "  54,\n",
       "  55,\n",
       "  56,\n",
       "  57,\n",
       "  58,\n",
       "  59,\n",
       "  60,\n",
       "  61,\n",
       "  62,\n",
       "  63,\n",
       "  64,\n",
       "  65,\n",
       "  66,\n",
       "  67,\n",
       "  68,\n",
       "  69,\n",
       "  70,\n",
       "  71,\n",
       "  72,\n",
       "  73,\n",
       "  74,\n",
       "  75,\n",
       "  76,\n",
       "  77,\n",
       "  78,\n",
       "  79,\n",
       "  80,\n",
       "  81,\n",
       "  82,\n",
       "  83,\n",
       "  84,\n",
       "  85,\n",
       "  86,\n",
       "  87,\n",
       "  88,\n",
       "  89,\n",
       "  90,\n",
       "  91,\n",
       "  92,\n",
       "  93,\n",
       "  94,\n",
       "  95,\n",
       "  96,\n",
       "  97]}"
      ]
     },
     "execution_count": 71,
     "metadata": {},
     "output_type": "execute_result"
    }
   ],
   "source": [
    "dic = {'menu':menu_list, 'price':price_list, '순서':rank_list}\n",
    "dic"
   ]
  },
  {
   "cell_type": "code",
   "execution_count": 72,
   "id": "12996f8e",
   "metadata": {},
   "outputs": [
    {
     "data": {
      "text/html": [
       "<div>\n",
       "<style scoped>\n",
       "    .dataframe tbody tr th:only-of-type {\n",
       "        vertical-align: middle;\n",
       "    }\n",
       "\n",
       "    .dataframe tbody tr th {\n",
       "        vertical-align: top;\n",
       "    }\n",
       "\n",
       "    .dataframe thead th {\n",
       "        text-align: right;\n",
       "    }\n",
       "</style>\n",
       "<table border=\"1\" class=\"dataframe\">\n",
       "  <thead>\n",
       "    <tr style=\"text-align: right;\">\n",
       "      <th></th>\n",
       "      <th>menu</th>\n",
       "      <th>price</th>\n",
       "    </tr>\n",
       "    <tr>\n",
       "      <th>순서</th>\n",
       "      <th></th>\n",
       "      <th></th>\n",
       "    </tr>\n",
       "  </thead>\n",
       "  <tbody>\n",
       "    <tr>\n",
       "      <th>1</th>\n",
       "      <td>오리 영양도시락</td>\n",
       "      <td>6,900</td>\n",
       "    </tr>\n",
       "    <tr>\n",
       "      <th>2</th>\n",
       "      <td>통살 오징어튀김</td>\n",
       "      <td>2,900</td>\n",
       "    </tr>\n",
       "    <tr>\n",
       "      <th>3</th>\n",
       "      <td>미나리 오징어 덮밥(매운맛)</td>\n",
       "      <td>5,500</td>\n",
       "    </tr>\n",
       "    <tr>\n",
       "      <th>4</th>\n",
       "      <td>미나리 오징어 덮밥(오리지널)</td>\n",
       "      <td>5,500</td>\n",
       "    </tr>\n",
       "    <tr>\n",
       "      <th>5</th>\n",
       "      <td>열무 감초고추장 비빔밥</td>\n",
       "      <td>4,500</td>\n",
       "    </tr>\n",
       "    <tr>\n",
       "      <th>...</th>\n",
       "      <td>...</td>\n",
       "      <td>...</td>\n",
       "    </tr>\n",
       "    <tr>\n",
       "      <th>93</th>\n",
       "      <td>무말랭이 무침</td>\n",
       "      <td>500</td>\n",
       "    </tr>\n",
       "    <tr>\n",
       "      <th>94</th>\n",
       "      <td>한솥밥</td>\n",
       "      <td>1,000</td>\n",
       "    </tr>\n",
       "    <tr>\n",
       "      <th>95</th>\n",
       "      <td>현미밥</td>\n",
       "      <td>1,700</td>\n",
       "    </tr>\n",
       "    <tr>\n",
       "      <th>96</th>\n",
       "      <td>리얼 티라미수 찰떡</td>\n",
       "      <td>1,700</td>\n",
       "    </tr>\n",
       "    <tr>\n",
       "      <th>97</th>\n",
       "      <td>리얼꿀 미니호떡</td>\n",
       "      <td>2,200</td>\n",
       "    </tr>\n",
       "  </tbody>\n",
       "</table>\n",
       "<p>97 rows × 2 columns</p>\n",
       "</div>"
      ],
      "text/plain": [
       "                menu  price\n",
       "순서                         \n",
       "1           오리 영양도시락  6,900\n",
       "2           통살 오징어튀김  2,900\n",
       "3    미나리 오징어 덮밥(매운맛)  5,500\n",
       "4   미나리 오징어 덮밥(오리지널)  5,500\n",
       "5       열무 감초고추장 비빔밥  4,500\n",
       "..               ...    ...\n",
       "93           무말랭이 무침    500\n",
       "94               한솥밥  1,000\n",
       "95               현미밥  1,700\n",
       "96        리얼 티라미수 찰떡  1,700\n",
       "97          리얼꿀 미니호떡  2,200\n",
       "\n",
       "[97 rows x 2 columns]"
      ]
     },
     "execution_count": 72,
     "metadata": {},
     "output_type": "execute_result"
    }
   ],
   "source": [
    "import pandas as pd\n",
    "bento = pd.DataFrame(dic)\n",
    "bento.set_index('순서', inplace=True)\n",
    "bento"
   ]
  },
  {
   "cell_type": "code",
   "execution_count": 73,
   "id": "ba61260b",
   "metadata": {},
   "outputs": [],
   "source": [
    "bento.to_csv('한솥도시락.csv', encoding = 'euc-kr')"
   ]
  },
  {
   "cell_type": "markdown",
   "id": "62d15af2",
   "metadata": {},
   "source": [
    "### select, select_one 차이점"
   ]
  },
  {
   "cell_type": "code",
   "execution_count": 74,
   "id": "d9356259",
   "metadata": {},
   "outputs": [
    {
     "data": {
      "text/plain": [
       "'오리 영양도시락'"
      ]
     },
     "execution_count": 74,
     "metadata": {},
     "output_type": "execute_result"
    }
   ],
   "source": [
    "#select_one: 모든 요소 중에서 가장 첫번째 요소만을 반환\n",
    "# 바로 text 처리 가능\n",
    "soup.select_one('h4.h.fz_03').text"
   ]
  },
  {
   "cell_type": "markdown",
   "id": "06f01703",
   "metadata": {},
   "source": [
    "- 요소 추출\n",
    "    - driver.find_element(By.기준,'태그정보')\n",
    "    - soup.select('태그정보')"
   ]
  },
  {
   "cell_type": "code",
   "execution_count": 76,
   "id": "55d4881d",
   "metadata": {},
   "outputs": [
    {
     "data": {
      "text/plain": [
       "'오리 영양도시락'"
      ]
     },
     "execution_count": 76,
     "metadata": {},
     "output_type": "execute_result"
    }
   ],
   "source": [
    "# 드라이버를 통해서 요소추출 후에 콘텐츠 출력이 가능함!\n",
    "driver.find_element(By.CSS_SELECTOR, 'h4.h.fz_03').text"
   ]
  },
  {
   "cell_type": "code",
   "execution_count": 77,
   "id": "c0fc2e0b",
   "metadata": {},
   "outputs": [
    {
     "data": {
      "text/plain": [
       "'오리 영양도시락'"
      ]
     },
     "execution_count": 77,
     "metadata": {},
     "output_type": "execute_result"
    }
   ],
   "source": [
    "\n",
    "driver.find_elements(By.CSS_SELECTOR, 'h4.h.fz_03')[0].text"
   ]
  },
  {
   "cell_type": "code",
   "execution_count": null,
   "id": "bcd54605",
   "metadata": {},
   "outputs": [],
   "source": [
    "\n",
    "#현재 내가 수집하고 싶은 데이터의 경로를 알려주는 기능\n",
    "# 태그 위에서 우클릭 > copy > copy selector \n",
    "\n",
    "# menuList_273 > div > div.item-text > h4\n",
    "# id값은 오직 하나밖에 안됨. class로 가져와야 함\n",
    "#참조용으로 가능!"
   ]
  },
  {
   "cell_type": "code",
   "execution_count": null,
   "id": "f1b40bf3",
   "metadata": {},
   "outputs": [],
   "source": []
  },
  {
   "cell_type": "code",
   "execution_count": null,
   "id": "7f74b9d4",
   "metadata": {},
   "outputs": [],
   "source": []
  },
  {
   "cell_type": "code",
   "execution_count": null,
   "id": "9827647d",
   "metadata": {},
   "outputs": [],
   "source": []
  },
  {
   "cell_type": "code",
   "execution_count": null,
   "id": "38128972",
   "metadata": {},
   "outputs": [],
   "source": []
  },
  {
   "cell_type": "code",
   "execution_count": null,
   "id": "23efe2c8",
   "metadata": {},
   "outputs": [],
   "source": []
  },
  {
   "cell_type": "code",
   "execution_count": null,
   "id": "d28bcf08",
   "metadata": {},
   "outputs": [],
   "source": []
  },
  {
   "cell_type": "code",
   "execution_count": null,
   "id": "fcc613a4",
   "metadata": {},
   "outputs": [],
   "source": []
  },
  {
   "cell_type": "code",
   "execution_count": null,
   "id": "cabfd995",
   "metadata": {},
   "outputs": [],
   "source": []
  },
  {
   "cell_type": "code",
   "execution_count": null,
   "id": "e04d37b0",
   "metadata": {},
   "outputs": [],
   "source": []
  },
  {
   "cell_type": "code",
   "execution_count": null,
   "id": "18438287",
   "metadata": {},
   "outputs": [],
   "source": []
  }
 ],
 "metadata": {
  "kernelspec": {
   "display_name": "Python 3 (ipykernel)",
   "language": "python",
   "name": "python3"
  },
  "language_info": {
   "codemirror_mode": {
    "name": "ipython",
    "version": 3
   },
   "file_extension": ".py",
   "mimetype": "text/x-python",
   "name": "python",
   "nbconvert_exporter": "python",
   "pygments_lexer": "ipython3",
   "version": "3.10.9"
  }
 },
 "nbformat": 4,
 "nbformat_minor": 5
}
