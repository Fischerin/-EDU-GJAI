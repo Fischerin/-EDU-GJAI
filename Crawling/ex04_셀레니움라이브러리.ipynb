{
 "cells": [
  {
   "cell_type": "markdown",
   "id": "038047d2",
   "metadata": {},
   "source": [
    "### 컴퓨터 코드를 통해서 컴퓨터를 자동제어하기\n",
    "### selenium 라이브러리\n",
    "- 웹페이지를 제어하기 위한 라이브러리"
   ]
  },
  {
   "cell_type": "code",
   "execution_count": 21,
   "id": "4eb89cf0",
   "metadata": {},
   "outputs": [
    {
     "name": "stdout",
     "output_type": "stream",
     "text": [
      "Requirement already satisfied: selenium in c:\\users\\gjaischool\\anaconda3\\lib\\site-packages (4.10.0)\n",
      "Requirement already satisfied: certifi>=2021.10.8 in c:\\users\\gjaischool\\anaconda3\\lib\\site-packages (from selenium) (2022.12.7)\n",
      "Requirement already satisfied: urllib3[socks]<3,>=1.26 in c:\\users\\gjaischool\\anaconda3\\lib\\site-packages (from selenium) (1.26.14)\n",
      "Requirement already satisfied: trio~=0.17 in c:\\users\\gjaischool\\anaconda3\\lib\\site-packages (from selenium) (0.22.1)\n",
      "Requirement already satisfied: trio-websocket~=0.9 in c:\\users\\gjaischool\\anaconda3\\lib\\site-packages (from selenium) (0.10.3)\n",
      "Requirement already satisfied: idna in c:\\users\\gjaischool\\anaconda3\\lib\\site-packages (from trio~=0.17->selenium) (3.4)\n",
      "Requirement already satisfied: exceptiongroup>=1.0.0rc9 in c:\\users\\gjaischool\\anaconda3\\lib\\site-packages (from trio~=0.17->selenium) (1.1.2)\n",
      "Requirement already satisfied: attrs>=20.1.0 in c:\\users\\gjaischool\\anaconda3\\lib\\site-packages (from trio~=0.17->selenium) (22.1.0)\n",
      "Requirement already satisfied: sniffio in c:\\users\\gjaischool\\anaconda3\\lib\\site-packages (from trio~=0.17->selenium) (1.2.0)\n",
      "Requirement already satisfied: sortedcontainers in c:\\users\\gjaischool\\anaconda3\\lib\\site-packages (from trio~=0.17->selenium) (2.4.0)\n",
      "Requirement already satisfied: cffi>=1.14 in c:\\users\\gjaischool\\anaconda3\\lib\\site-packages (from trio~=0.17->selenium) (1.15.1)\n",
      "Requirement already satisfied: outcome in c:\\users\\gjaischool\\anaconda3\\lib\\site-packages (from trio~=0.17->selenium) (1.2.0)\n",
      "Requirement already satisfied: wsproto>=0.14 in c:\\users\\gjaischool\\anaconda3\\lib\\site-packages (from trio-websocket~=0.9->selenium) (1.2.0)\n",
      "Requirement already satisfied: PySocks!=1.5.7,<2.0,>=1.5.6 in c:\\users\\gjaischool\\anaconda3\\lib\\site-packages (from urllib3[socks]<3,>=1.26->selenium) (1.7.1)\n",
      "Requirement already satisfied: pycparser in c:\\users\\gjaischool\\anaconda3\\lib\\site-packages (from cffi>=1.14->trio~=0.17->selenium) (2.21)\n",
      "Requirement already satisfied: h11<1,>=0.9.0 in c:\\users\\gjaischool\\anaconda3\\lib\\site-packages (from wsproto>=0.14->trio-websocket~=0.9->selenium) (0.14.0)\n"
     ]
    }
   ],
   "source": [
    "# 기본으로 내장된 라이브러리가 아니기 때문에 설치 진행\n",
    "!pip install selenium"
   ]
  },
  {
   "cell_type": "code",
   "execution_count": 22,
   "id": "e75d45cb",
   "metadata": {},
   "outputs": [],
   "source": [
    "#webdriver:웹브라우저를 \"통제\"하기 위한 라이브러리\n",
    "from selenium import webdriver as wb\n",
    "\n",
    "#Keys: 컴퓨터용 키보드\n",
    "from selenium.webdriver.common.keys import Keys\n",
    "\n",
    "#By: 태그선택을 할 때 \"기준\"을 정의해주는 라이브러리\n",
    "from selenium.webdriver.common.by import By\n",
    "\n",
    "from bs4 import BeautifulSoup as bs"
   ]
  },
  {
   "cell_type": "markdown",
   "id": "f00b4b10",
   "metadata": {},
   "source": [
    "- 브라우저의 모든 제어는 webdriver가 진행\n",
    "- 컴퓨터용 브라우저 설치(컴퓨터용 크롬)\n",
    "- 크롬 드라이버 설치시 주의사항\n",
    "    1. 크롬드라이버의 설치버전과 나의 크롬 버전 일치시키기\n",
    "    2. 드라이버 파일은 현재 내가 작업하고 있는 파일과 같은 위치에 넣는다."
   ]
  },
  {
   "cell_type": "code",
   "execution_count": null,
   "id": "6db1154c",
   "metadata": {},
   "outputs": [],
   "source": [
    "# 컴퓨터야(webdriver) 크롬창 실행시켜줘~\n",
    "# url 주소 필요 \n",
    "\n",
    "driver= wb.Chrome()\n",
    "driver.get('http://www.naver.com/')"
   ]
  },
  {
   "cell_type": "markdown",
   "id": "d5df9db0",
   "metadata": {},
   "source": [
    "- 자동화로 '이름' 검색"
   ]
  },
  {
   "cell_type": "code",
   "execution_count": null,
   "id": "6af03c6d",
   "metadata": {},
   "outputs": [],
   "source": [
    "# 검색의 단계\n",
    "#1. 크롬창 열기\n",
    "#2. 검색창 찾기\n",
    "#3. 검색어 입력\n",
    "#4. 검색(enter, 돋보기버튼 클릭)"
   ]
  },
  {
   "cell_type": "code",
   "execution_count": 28,
   "id": "c1b48da2",
   "metadata": {},
   "outputs": [],
   "source": [
    "#1. 크롬창 열기(naver 열기)\n",
    "#2. 검색창 찾기\n",
    "search = driver.find_element(By.ID,'query')"
   ]
  },
  {
   "cell_type": "code",
   "execution_count": 29,
   "id": "a5e7e4d4",
   "metadata": {},
   "outputs": [],
   "source": [
    "#3. 검색어 입력\n",
    "search.send_keys('최영화')"
   ]
  },
  {
   "cell_type": "code",
   "execution_count": 30,
   "id": "be8fd9b6",
   "metadata": {},
   "outputs": [],
   "source": [
    "#4. 엔터(키보드)를 쳐서 검색\n",
    "search.send_keys(Keys.ENTER)"
   ]
  },
  {
   "cell_type": "code",
   "execution_count": 31,
   "id": "f59c066b",
   "metadata": {},
   "outputs": [],
   "source": [
    "# 또다른 검색어를 입력해보자\n",
    "# 뒤로가기 -> 브라우저 영역 -> 드라이버에게 요청\n",
    "driver.back()"
   ]
  },
  {
   "cell_type": "code",
   "execution_count": 32,
   "id": "be2adfaa",
   "metadata": {},
   "outputs": [],
   "source": [
    "#페이지가 바뀔 때마다 데이터 초기화 -> 다시한번 검색창 위치 찾아오기\n",
    "search = driver.find_element(By.ID,'query')"
   ]
  },
  {
   "cell_type": "code",
   "execution_count": 34,
   "id": "bab54310",
   "metadata": {},
   "outputs": [],
   "source": [
    "btn = driver.find_element(By.CLASS_NAME,'btn_search')\n",
    "btn.click()"
   ]
  },
  {
   "cell_type": "code",
   "execution_count": null,
   "id": "0b800e95",
   "metadata": {},
   "outputs": [],
   "source": [
    "#브라우저 종료하기\n",
    "driver.quit()"
   ]
  },
  {
   "cell_type": "code",
   "execution_count": null,
   "id": "45101ba4",
   "metadata": {},
   "outputs": [],
   "source": []
  }
 ],
 "metadata": {
  "kernelspec": {
   "display_name": "Python 3 (ipykernel)",
   "language": "python",
   "name": "python3"
  },
  "language_info": {
   "codemirror_mode": {
    "name": "ipython",
    "version": 3
   },
   "file_extension": ".py",
   "mimetype": "text/x-python",
   "name": "python",
   "nbconvert_exporter": "python",
   "pygments_lexer": "ipython3",
   "version": "3.10.9"
  }
 },
 "nbformat": 4,
 "nbformat_minor": 5
}
