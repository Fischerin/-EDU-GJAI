{
 "cells": [
  {
   "cell_type": "markdown",
   "id": "4b91e594",
   "metadata": {},
   "source": [
    "#### 1. 포켓몬 페이지에서 이미지 데이터 수집!\n",
    "- 자동으로 이미지를 저장할 폴더 생성"
   ]
  },
  {
   "cell_type": "code",
   "execution_count": 1,
   "id": "7dd0065c",
   "metadata": {},
   "outputs": [],
   "source": [
    "from selenium import webdriver as wb #통제\n",
    "from selenium.webdriver.common.keys import Keys #입력\n",
    "from selenium.webdriver.common.by import By #선택자 선택의 기준\n",
    "from bs4 import BeautifulSoup as bs\n",
    "import time\n",
    "import os #파일이나 폴더를 생성, 삭제해주는 라이브러리(파일시스템라이브러리)\n",
    "#이미지의 경로를 이미지파일로 변환시켜주는 라이브러리\n",
    "from urllib.request import urlretrieve"
   ]
  },
  {
   "cell_type": "code",
   "execution_count": 3,
   "id": "ce923b0b",
   "metadata": {},
   "outputs": [
    {
     "name": "stdout",
     "output_type": "stream",
     "text": [
      "이미 존재하는 폴더입니다\n"
     ]
    }
   ],
   "source": [
    "#폴더 생성\n",
    "if not os.path.isdir ('C:\\\\Users\\\\gjaischool\\\\Desktop\\포켓몬도감'):\n",
    "    os.mkdir('C:\\\\Users\\\\gjaischool\\\\Desktop\\포켓몬도감')\n",
    "    print(\"폴더생성\")\n",
    "else:\n",
    "    print(\"이미 존재하는 폴더입니다\")"
   ]
  },
  {
   "cell_type": "code",
   "execution_count": 5,
   "id": "3ae4b2d4",
   "metadata": {},
   "outputs": [],
   "source": [
    "#포켓몬페이지 열기\n",
    "\n",
    "driver = wb.Chrome()\n",
    "driver.get('https://www.pokemonkorea.co.kr/pokedex#pokedex_1')"
   ]
  },
  {
   "cell_type": "code",
   "execution_count": 8,
   "id": "2526bb69",
   "metadata": {},
   "outputs": [],
   "source": [
    "#bs 객체화 진행\n",
    "soup = bs(driver.page_source,'lxml')"
   ]
  },
  {
   "cell_type": "code",
   "execution_count": 18,
   "id": "f222c52f",
   "metadata": {},
   "outputs": [
    {
     "data": {
      "text/plain": [
       "''"
      ]
     },
     "execution_count": 18,
     "metadata": {},
     "output_type": "execute_result"
    }
   ],
   "source": [
    "img=soup.select('img.img-fluid')\n",
    "img[0].text\n",
    "\n",
    "# .text 콘텐츠 추출을 했을 때 아무것도 가져와지지 않는 이유는?\n",
    "# 콘텐츠는 여는 태그와 닫는 태그 사이에 데이터를 가져오는 속성인데,\n",
    "# 이미지태그는 홀태그여서 여는 태그밖에 없어서 속성추출하는 건 다른 태그 사용"
   ]
  },
  {
   "cell_type": "code",
   "execution_count": 19,
   "id": "dd90b2ff",
   "metadata": {},
   "outputs": [
    {
     "data": {
      "text/plain": [
       "'https://data1.pokemonkorea.co.kr/newdata/pokedex/mid/000101.png'"
      ]
     },
     "execution_count": 19,
     "metadata": {},
     "output_type": "execute_result"
    }
   ],
   "source": [
    "#태그 내에 있는 속성을 추출하는 방법\n",
    "# 요소['속성명']\n",
    "img[0]['src']"
   ]
  },
  {
   "cell_type": "code",
   "execution_count": 20,
   "id": "bd8a1ab0",
   "metadata": {},
   "outputs": [
    {
     "data": {
      "text/plain": [
       "('C:\\\\Users\\\\gjaischool\\\\Desktop\\\\포켓몬도감\\\\포켓몬.jpg',\n",
       " <http.client.HTTPMessage at 0x1af7031c3d0>)"
      ]
     },
     "execution_count": 20,
     "metadata": {},
     "output_type": "execute_result"
    }
   ],
   "source": [
    "#이미지의 경로를 사용하여 이미지파일로 저장하기\n",
    "# urlretrieve(이미지 경로, 저장할 위치\\\\파일명, 확장자)\n",
    "\n",
    "urlretrieve(img[0]['src'],'C:\\\\Users\\\\gjaischool\\\\Desktop\\포켓몬도감\\\\포켓몬.jpg')"
   ]
  },
  {
   "cell_type": "code",
   "execution_count": 21,
   "id": "4e83bbff",
   "metadata": {},
   "outputs": [],
   "source": [
    "# 여러마리의 포켓몬을 저장해보자!\n",
    "#img_list에 순수한 경로만을 저장\n",
    "\n",
    "img_list =[]\n",
    "for i in range(len(img)):\n",
    "    img_list.append(img[i]['src'])"
   ]
  },
  {
   "cell_type": "code",
   "execution_count": 22,
   "id": "605e5d8f",
   "metadata": {
    "collapsed": true
   },
   "outputs": [
    {
     "data": {
      "text/plain": [
       "['https://data1.pokemonkorea.co.kr/newdata/pokedex/mid/000101.png',\n",
       " 'https://data1.pokemonkorea.co.kr/newdata/pokedex/mid/000201.png',\n",
       " 'https://data1.pokemonkorea.co.kr/newdata/pokedex/mid/000301.png',\n",
       " 'https://data1.pokemonkorea.co.kr/newdata/pokedex/mid/000302.png',\n",
       " 'https://data1.pokemonkorea.co.kr/newdata/pokedex/mid/000303.png',\n",
       " 'https://data1.pokemonkorea.co.kr/newdata/pokedex/mid/000401.png',\n",
       " 'https://data1.pokemonkorea.co.kr/newdata/pokedex/mid/000501.png',\n",
       " 'https://data1.pokemonkorea.co.kr/newdata/pokedex/mid/000601.png',\n",
       " 'https://data1.pokemonkorea.co.kr/newdata/pokedex/mid/000602.png',\n",
       " 'https://data1.pokemonkorea.co.kr/newdata/pokedex/mid/000603.png',\n",
       " 'https://data1.pokemonkorea.co.kr/newdata/pokedex/mid/000604.png',\n",
       " 'https://data1.pokemonkorea.co.kr/newdata/pokedex/mid/000701.png',\n",
       " 'https://data1.pokemonkorea.co.kr/newdata/pokedex/mid/000801.png',\n",
       " 'https://data1.pokemonkorea.co.kr/newdata/pokedex/mid/000901.png',\n",
       " 'https://data1.pokemonkorea.co.kr/newdata/pokedex/mid/000902.png',\n",
       " 'https://data1.pokemonkorea.co.kr/newdata/pokedex/mid/000903.png',\n",
       " 'https://data1.pokemonkorea.co.kr/newdata/pokedex/mid/001001.png',\n",
       " 'https://data1.pokemonkorea.co.kr/newdata/pokedex/mid/001101.png']"
      ]
     },
     "execution_count": 22,
     "metadata": {},
     "output_type": "execute_result"
    }
   ],
   "source": [
    "#확인\n",
    "img_list"
   ]
  },
  {
   "cell_type": "code",
   "execution_count": 24,
   "id": "7e1f0720",
   "metadata": {},
   "outputs": [],
   "source": [
    "\n",
    "for i in range(len(img)):\n",
    "    urlretrieve(img_list[i],f'C:\\\\Users\\\\gjaischool\\\\Desktop\\포켓몬도감\\\\포켓몬{i+1}.jpg')"
   ]
  },
  {
   "cell_type": "markdown",
   "id": "de758c9f",
   "metadata": {},
   "source": [
    "### 화면에서 자동 스크롤 진행\n",
    "\n",
    "- 현재 로딩되어 있는 페이지의 정보만을 bs 객체화 하기 때문에 제한적인 수집이 될 수밖에 없다!\n",
    "\n",
    "- 아래방향키: 조금 내려감\n",
    "- 스페이스바: 조금 더 내려감\n",
    "- page down: 스크롤바 만큼 내려감\n",
    "- end: "
   ]
  },
  {
   "cell_type": "code",
   "execution_count": 25,
   "id": "6463331e",
   "metadata": {},
   "outputs": [],
   "source": [
    "# body html의 전체 몸통\n",
    "# 키보드의 end 키를 통해서 페이지 내리기(스크롤)\n",
    "body = driver.find_element(By.CSS_SELECTOR, 'body')\n",
    "\n",
    "for i in range(20):\n",
    "    body.send_keys(Keys.END)\n",
    "    time.sleep(1)"
   ]
  },
  {
   "cell_type": "code",
   "execution_count": 26,
   "id": "808dc0da",
   "metadata": {},
   "outputs": [],
   "source": [
    "# 코드 합치기\n",
    "\n",
    "driver = wb.Chrome()\n",
    "driver.get('https://www.pokemonkorea.co.kr/pokedex#pokedex_1')\n",
    "time.sleep(1)\n",
    "\n",
    "\n",
    "body = driver.find_element(By.CSS_SELECTOR, 'body')\n",
    "\n",
    "for i in range(20):\n",
    "    body.send_keys(Keys.END)\n",
    "    time.sleep(1)\n",
    "    \n",
    "    \n",
    "soup = bs(driver.page_source,'lxml')\n",
    "    \n",
    "\n",
    "img=soup.select('img.img-fluid')\n",
    "\n",
    "img_list =[]\n",
    "for i in range(len(img)):\n",
    "    img_list.append(img[i]['src'])\n",
    " \n",
    "for i in range(len(img)):\n",
    "    urlretrieve(img_list[i],f'C:\\\\Users\\\\gjaischool\\\\Desktop\\포켓몬도감\\\\포켓몬{i+1}.jpg')"
   ]
  },
  {
   "cell_type": "code",
   "execution_count": null,
   "id": "0733f78b",
   "metadata": {},
   "outputs": [],
   "source": []
  },
  {
   "cell_type": "code",
   "execution_count": null,
   "id": "c56be462",
   "metadata": {},
   "outputs": [],
   "source": []
  },
  {
   "cell_type": "code",
   "execution_count": null,
   "id": "91418e30",
   "metadata": {},
   "outputs": [],
   "source": []
  },
  {
   "cell_type": "code",
   "execution_count": null,
   "id": "1d0f3c11",
   "metadata": {},
   "outputs": [],
   "source": []
  }
 ],
 "metadata": {
  "kernelspec": {
   "display_name": "Python 3 (ipykernel)",
   "language": "python",
   "name": "python3"
  },
  "language_info": {
   "codemirror_mode": {
    "name": "ipython",
    "version": 3
   },
   "file_extension": ".py",
   "mimetype": "text/x-python",
   "name": "python",
   "nbconvert_exporter": "python",
   "pygments_lexer": "ipython3",
   "version": "3.10.9"
  }
 },
 "nbformat": 4,
 "nbformat_minor": 5
}
