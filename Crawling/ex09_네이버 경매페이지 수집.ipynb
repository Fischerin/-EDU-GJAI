{
 "cells": [
  {
   "cell_type": "markdown",
   "id": "69a25de5",
   "metadata": {},
   "source": [
    "#1. selenium 라이브러리를 활용해서 네이버 부동산 페이지 열기  \n",
    "#2. 사건번호 ~ 매각기일  총 7개 데이터 수집  \n",
    "#3. 변수명 :nums, types, adds, price_1(감정가), price2(최저입찰가), status , dates  \n",
    "#4. 순수한 정보들을 담아주는 7개의 list 생성  \n",
    "#5. 리스트명: num_list, type_list, add_list, price1_list, price2_list, status_list, date_list  \n",
    "#6. 리스트에 데이터 삽입  \n",
    "#7. 7개의 리스트를 활용하여 데이터프레임 생성!  \n",
    "#### 1번째 페이지의 데이터만 수집"
   ]
  },
  {
   "cell_type": "code",
   "execution_count": 1,
   "id": "d390275e",
   "metadata": {},
   "outputs": [],
   "source": [
    "# 사건번호 물건종류 소재지 감정기 최저입찰가 물건상태 매각기일\n",
    "from selenium import webdriver as wb  #통제\n",
    "from selenium.webdriver.common.keys import Keys\n",
    "from selenium.webdriver.common.by import By\n",
    "from bs4 import BeautifulSoup as bs\n",
    "import time\n",
    "import os  \n",
    "\n",
    "from urllib.request import urlretrieve"
   ]
  },
  {
   "cell_type": "code",
   "execution_count": 3,
   "id": "7d344cd8",
   "metadata": {},
   "outputs": [],
   "source": [
    "driver = wb.Chrome()\n",
    "driver.get('https://auction1.land.naver.com/auction/ca_list.php')\n",
    "driver.maximize_window()"
   ]
  },
  {
   "cell_type": "code",
   "execution_count": 4,
   "id": "9fb036c0",
   "metadata": {},
   "outputs": [],
   "source": [
    "soup=bs(driver.page_source, 'lxml')"
   ]
  },
  {
   "cell_type": "code",
   "execution_count": 94,
   "id": "2e247a59",
   "metadata": {},
   "outputs": [
    {
     "name": "stdout",
     "output_type": "stream",
     "text": [
      "['20-108919', '20-111953(1)', '20-111953(2)', '21-1705', '21-2999', '21-100851(3)', '21-100851(4)', '21-100851(5)', '21-100851(9)', '21-100851(11)', '21-101278', '21-103935', '21-104853', '21-106354(5)', '21-107708', '21-108473', '21-110650(1)', '21-110650(2)', '21-110650(3)', '21-110650(4)', '21-111752(1)', '21-111752(2)', '21-111752(3)', '21-111752(4)', '21-111752(5)', '21-111752(7)', '21-111752(9)', '21-111943', '21-112137', '21-112700']\n"
     ]
    }
   ],
   "source": [
    "# 번호\n",
    "\n",
    "\n",
    "nums = soup.select('tr>td.num')\n",
    "num_list=[]\n",
    "\n",
    "for i in range(len(nums)):\n",
    "    num_list.append(nums[i].text)\n",
    "    \n",
    "print(num_list)"
   ]
  },
  {
   "cell_type": "code",
   "execution_count": 68,
   "id": "acc717e2",
   "metadata": {},
   "outputs": [
    {
     "name": "stdout",
     "output_type": "stream",
     "text": [
      "['다세대(빌라)', '다세대(빌라)', '다세대(빌라)', '다세대(빌라)', '근린상가', '다세대(빌라)', '다세대(빌라)', '다세대(빌라)', '다세대(빌라)', '다세대(빌라)', '다세대(빌라)', '다세대(빌라)', '다세대(빌라)', '근린상가', '다세대(빌라)', '다세대(빌라)', '아파트', '다세대(빌라)', '다세대(빌라)', '다세대(빌라)', '다세대(빌라)', '다세대(빌라)', '오피스텔', '다세대(빌라)', '다세대(빌라)', '다세대(빌라)', '다세대(빌라)', '다세대(빌라)', '오피스텔', '다세대(빌라)']\n"
     ]
    }
   ],
   "source": [
    "# 물건종류\n",
    "\n",
    "type_list=[]\n",
    "\n",
    "for i in range(30):\n",
    "    types = soup.select('tbody#tb>tr')[i]\n",
    "    types = types.select('td')[2]\n",
    "    \n",
    "    type_list.append(types.text)\n",
    "    \n",
    "print(type_list)"
   ]
  },
  {
   "cell_type": "code",
   "execution_count": 106,
   "id": "39130b28",
   "metadata": {},
   "outputs": [
    {
     "name": "stdout",
     "output_type": "stream",
     "text": [
      "['서울특별시 강서구 화곡동 61-49, 영광빌리지 4층 402호', '서울특별시 구로구 구로동 88-17 외2필지, 비체빌 5층 503호', '서울특별시 구로구 구로동 88-17 외2필지, 비체빌 5층 504호', '서울특별시 관악구 신림동 646-317 외2필지, 대림아트빌 2층 201호', '서울특별시 중구 을지로6가 21-31 외3필지, 동대문패션티브이 1층 1091호', '서울특별시 강서구 화곡동 46-295 외1필지, 동양하우징 4층 403호', '서울특별시 강서구 외발산동 216-37, 가온빌 3층 301호', '서울특별시 양천구 신월동 230-13 외1필지, 퀸즈팰리스 5층 503호', '서울특별시 강서구 화곡동 46-17, 신성주택 4층 403호', '서울특별시 강서구 화곡동 29-19, 대림라온제나 4층 401호', '서울특별시 관악구 신림동 685-71 외1필지, 서래하우스 5층 501호', '서울특별시 구로구 오류동 18-13 외2필지, 힐하우스 2층 202호', '서울특별시 강서구 등촌동 365-59, 세명클래스 6층 602호', '서울특별시 금천구 시흥동 837-14, 드웰하우스 2층 204호', '서울특별시 구로구 개봉동 337-25, 마이빌5차 5층 501호', '서울특별시 금천구 시흥동 830-11 외1필지, 에이엔캐슬 2층 201호', '서울특별시 강서구 화곡동 343-49 외1필지, 혜성오피아파트 9층 904호', '서울특별시 구로구 고척동 171-7 외4필지, 소담밸리 7층 701호', '서울특별시 강서구 등촌동 574-3, 평화아트빌 비동 3층 303호', '서울특별시 강서구 등촌동 574-3, 평화아트빌 비동 2층 203호', '서울특별시 양천구 신월동 87-7 외1필지, 에스케이바움빌 4층 402호', '서울특별시 양천구 신월동 75-1 외1필지, 에스케이바움하임빌 2층 204호', '서울특별시 양천구 신월동 86-4 외1필지, 에스케이이팰리스 8층 801호', '서울특별시 양천구 신월동 75-1 외1필지, 에스케이바움하임빌 2층 201호', '서울특별시 양천구 신월동 88-25 외2필지, 에스케이이빌리지 5층 504호', '서울특별시 양천구 신월동 148-14 외1필지, 신월리버스타운 103동 2층 201호', '서울특별시 양천구 신월동 122-7, 제이와이팰리스 6층 602호', '서울특별시 강서구 등촌동 574-3, 평화아트빌 에이동 4층 401호', '서울특별시 금천구 독산동 1009-75, 에이엔캐슬 에이동 2층 204호', '서울특별시 강서구 화곡동 869-7, 도티하우스 5층 502호']\n"
     ]
    }
   ],
   "source": [
    "# 소재지\n",
    "\n",
    "\n",
    "adds = soup.select('.area>a')\n",
    "add_list=[]\n",
    "\n",
    "for i in range(len(adds)):\n",
    "    add_list.append(adds[i].text)\n",
    "    \n",
    "print(add_list)"
   ]
  },
  {
   "cell_type": "code",
   "execution_count": 107,
   "id": "e4008ef2",
   "metadata": {},
   "outputs": [
    {
     "data": {
      "text/plain": [
       "30"
      ]
     },
     "execution_count": 107,
     "metadata": {},
     "output_type": "execute_result"
    }
   ],
   "source": [
    "len(add_list)"
   ]
  },
  {
   "cell_type": "code",
   "execution_count": 48,
   "id": "c6653fad",
   "metadata": {},
   "outputs": [
    {
     "data": {
      "text/plain": [
       "[<a name=\"name_addr\" onclick=\"checkView_params(document.fmPdList,2181440);\" style=\"cursor:pointer;\">서울특별시 강서구 화곡동 61-49, 영광빌리지 4층 402호</a>,\n",
       " <a name=\"name_addr\" onclick=\"checkView_params(document.fmPdList,2196828);\" style=\"cursor:pointer;\">서울특별시 구로구 구로동 88-17 외2필지, 비체빌 5층 503호</a>,\n",
       " <a name=\"name_addr\" onclick=\"checkView_params(document.fmPdList,2260575);\" style=\"cursor:pointer;\">서울특별시 구로구 구로동 88-17 외2필지, 비체빌 5층 504호</a>,\n",
       " <a name=\"name_addr\" onclick=\"checkView_params(document.fmPdList,2238997);\" style=\"cursor:pointer;\">서울특별시 관악구 신림동 646-317 외2필지, 대림아트빌 2층 201호</a>,\n",
       " <a name=\"name_addr\" onclick=\"checkView_params(document.fmPdList,2252336);\" style=\"cursor:pointer;\">서울특별시 중구 을지로6가 21-31 외3필지, 동대문패션티브이 1층 1091호</a>,\n",
       " <a name=\"name_addr\" onclick=\"checkView_params(document.fmPdList,2292815);\" style=\"cursor:pointer;\">서울특별시 강서구 화곡동 46-295 외1필지, 동양하우징 4층 403호</a>,\n",
       " <a name=\"name_addr\" onclick=\"checkView_params(document.fmPdList,2292816);\" style=\"cursor:pointer;\">서울특별시 강서구 외발산동 216-37, 가온빌 3층 301호</a>,\n",
       " <a name=\"name_addr\" onclick=\"checkView_params(document.fmPdList,2292817);\" style=\"cursor:pointer;\">서울특별시 양천구 신월동 230-13 외1필지, 퀸즈팰리스 5층 503호</a>,\n",
       " <a name=\"name_addr\" onclick=\"checkView_params(document.fmPdList,2292821);\" style=\"cursor:pointer;\">서울특별시 강서구 화곡동 46-17, 신성주택 4층 403호</a>,\n",
       " <a name=\"name_addr\" onclick=\"checkView_params(document.fmPdList,2292823);\" style=\"cursor:pointer;\">서울특별시 강서구 화곡동 29-19, 대림라온제나 4층 401호</a>,\n",
       " <a name=\"name_addr\" onclick=\"checkView_params(document.fmPdList,2217757);\" style=\"cursor:pointer;\">서울특별시 관악구 신림동 685-71 외1필지, 서래하우스 5층 501호</a>,\n",
       " <a name=\"name_addr\" onclick=\"checkView_params(document.fmPdList,2227898);\" style=\"cursor:pointer;\">서울특별시 구로구 오류동 18-13 외2필지, 힐하우스 2층 202호</a>,\n",
       " <a name=\"name_addr\" onclick=\"checkView_params(document.fmPdList,2233004);\" style=\"cursor:pointer;\">서울특별시 강서구 등촌동 365-59, 세명클래스 6층 602호</a>,\n",
       " <a name=\"name_addr\" onclick=\"checkView_params(document.fmPdList,2240550);\" style=\"cursor:pointer;\">서울특별시 금천구 시흥동 837-14, 드웰하우스 2층 204호</a>,\n",
       " <a name=\"name_addr\" onclick=\"checkView_params(document.fmPdList,2245814);\" style=\"cursor:pointer;\">서울특별시 구로구 개봉동 337-25, 마이빌5차 5층 501호</a>,\n",
       " <a name=\"name_addr\" onclick=\"checkView_params(document.fmPdList,2250571);\" style=\"cursor:pointer;\">서울특별시 금천구 시흥동 830-11 외1필지, 에이엔캐슬 2층 201호</a>,\n",
       " <a name=\"name_addr\" onclick=\"checkView_params(document.fmPdList,2259050);\" style=\"cursor:pointer;\">서울특별시 강서구 화곡동 343-49 외1필지, 혜성오피아파트 9층 904호</a>,\n",
       " <a name=\"name_addr\" onclick=\"checkView_params(document.fmPdList,2299747);\" style=\"cursor:pointer;\">서울특별시 구로구 고척동 171-7 외4필지, 소담밸리 7층 701호</a>,\n",
       " <a name=\"name_addr\" onclick=\"checkView_params(document.fmPdList,2299748);\" style=\"cursor:pointer;\">서울특별시 강서구 등촌동 574-3, 평화아트빌 비동 3층 303호</a>,\n",
       " <a name=\"name_addr\" onclick=\"checkView_params(document.fmPdList,2299749);\" style=\"cursor:pointer;\">서울특별시 강서구 등촌동 574-3, 평화아트빌 비동 2층 203호</a>,\n",
       " <a name=\"name_addr\" onclick=\"checkView_params(document.fmPdList,2264887);\" style=\"cursor:pointer;\">서울특별시 양천구 신월동 87-7 외1필지, 에스케이바움빌 4층 402호</a>,\n",
       " <a name=\"name_addr\" onclick=\"checkView_params(document.fmPdList,2307404);\" style=\"cursor:pointer;\">서울특별시 양천구 신월동 75-1 외1필지, 에스케이바움하임빌 2층 204호</a>,\n",
       " <a name=\"name_addr\" onclick=\"checkView_params(document.fmPdList,2307405);\" style=\"cursor:pointer;\">서울특별시 양천구 신월동 86-4 외1필지, 에스케이이팰리스 8층 801호</a>,\n",
       " <a name=\"name_addr\" onclick=\"checkView_params(document.fmPdList,2307406);\" style=\"cursor:pointer;\">서울특별시 양천구 신월동 75-1 외1필지, 에스케이바움하임빌 2층 201호</a>,\n",
       " <a name=\"name_addr\" onclick=\"checkView_params(document.fmPdList,2307407);\" style=\"cursor:pointer;\">서울특별시 양천구 신월동 88-25 외2필지, 에스케이이빌리지 5층 504호</a>,\n",
       " <a name=\"name_addr\" onclick=\"checkView_params(document.fmPdList,2307409);\" style=\"cursor:pointer;\">서울특별시 양천구 신월동 148-14 외1필지, 신월리버스타운 103동 2층 201호</a>,\n",
       " <a name=\"name_addr\" onclick=\"checkView_params(document.fmPdList,2307411);\" style=\"cursor:pointer;\">서울특별시 양천구 신월동 122-7, 제이와이팰리스 6층 602호</a>,\n",
       " <a name=\"name_addr\" onclick=\"checkView_params(document.fmPdList,2267232);\" style=\"cursor:pointer;\">서울특별시 강서구 등촌동 574-3, 평화아트빌 에이동 4층 401호</a>,\n",
       " <a name=\"name_addr\" onclick=\"checkView_params(document.fmPdList,2266526);\" style=\"cursor:pointer;\">서울특별시 금천구 독산동 1009-75, 에이엔캐슬 에이동 2층 204호</a>,\n",
       " <a name=\"name_addr\" onclick=\"checkView_params(document.fmPdList,2267233);\" style=\"cursor:pointer;\">서울특별시 강서구 화곡동 869-7, 도티하우스 5층 502호</a>]"
      ]
     },
     "execution_count": 48,
     "metadata": {},
     "output_type": "execute_result"
    }
   ],
   "source": [
    "soup.select('.area>a')"
   ]
  },
  {
   "cell_type": "code",
   "execution_count": 21,
   "id": "6b23fc17",
   "metadata": {},
   "outputs": [
    {
     "name": "stdout",
     "output_type": "stream",
     "text": [
      "['175,000,000', '239,000,000', '237,000,000', '254,000,000', '187,000,000', '214,000,000', '172,000,000', '191,000,000', '167,000,000', '178,000,000', '239,000,000', '271,000,000', '214,000,000', '150,000,000', '292,000,000', '163,000,000', '203,000,000', '170,000,000', '233,000,000', '226,000,000', '206,000,000', '205,000,000', '280,000,000', '226,000,000', '270,000,000', '302,000,000', '333,000,000', '187,000,000', '316,000,000', '222,700,000']\n"
     ]
    }
   ],
   "source": [
    "# 감정가\n",
    "\n",
    "price_1 = soup.select('p.num_type1')\n",
    "price1_list=[]\n",
    "\n",
    "for i in range(len(price_1)):\n",
    "    price1_list.append(price_1[i].text)\n",
    "    \n",
    "print(price1_list)\n"
   ]
  },
  {
   "cell_type": "code",
   "execution_count": 91,
   "id": "0231c69d",
   "metadata": {},
   "outputs": [
    {
     "name": "stdout",
     "output_type": "stream",
     "text": [
      "['3,153,000', '2%', '40,098,000', '17%', '39,762,000', '17%', '34,091,000', '13%', '49,021,000', '26%', '9,412,000', '4%', '7,565,000', '4%', '8,401,000', '4%', '7,345,000', '4%', '7,829,000', '4%', '8,409,000', '4%', '14,898,000', '5%', '7,530,000', '4%', '12,885,000', '9%', '20,066,000', '7%']\n"
     ]
    }
   ],
   "source": [
    "#최저 입찰가\n",
    "\n",
    "price_2 = soup.select('p.num_type2')\n",
    "price2_list=[]\n",
    "\n",
    "for i in range(30):\n",
    "    price2_list.append(price_2[i].text)\n",
    "    \n",
    "print(price2_list)\n"
   ]
  },
  {
   "cell_type": "code",
   "execution_count": 69,
   "id": "192d62a5",
   "metadata": {},
   "outputs": [
    {
     "name": "stdout",
     "output_type": "stream",
     "text": [
      "['다세대(빌라)', '다세대(빌라)', '다세대(빌라)', '다세대(빌라)', '근린상가', '다세대(빌라)', '다세대(빌라)', '다세대(빌라)', '다세대(빌라)', '다세대(빌라)', '다세대(빌라)', '다세대(빌라)', '다세대(빌라)', '근린상가', '다세대(빌라)', '다세대(빌라)', '아파트', '다세대(빌라)', '다세대(빌라)', '다세대(빌라)', '다세대(빌라)', '다세대(빌라)', '오피스텔', '다세대(빌라)', '다세대(빌라)', '다세대(빌라)', '다세대(빌라)', '다세대(빌라)', '오피스텔', '다세대(빌라)']\n"
     ]
    }
   ],
   "source": [
    "# 물건상태\n",
    "\n",
    "# status_list=[]\n",
    "\n",
    "# for i in range(30):\n",
    "#     status = soup.select('tbody#tb>tr')[i]\n",
    "#     status = soup.select('td')[5]\n",
    "    \n",
    "#     status_list.append(status.text)\n",
    "\n",
    "# print(type_list)"
   ]
  },
  {
   "cell_type": "code",
   "execution_count": 25,
   "id": "196ddee4",
   "metadata": {},
   "outputs": [
    {
     "name": "stdout",
     "output_type": "stream",
     "text": [
      "['2023.07.1210:00', '2023.07.1210:00', '2023.07.1210:00', '2023.07.1210:00', '2023.07.1210:00', '2023.07.1210:00', '2023.07.1210:00', '2023.07.1210:00', '2023.07.1210:00', '2023.07.1210:00', '2023.07.1210:00', '2023.07.1210:00', '2023.07.1210:00', '2023.07.1210:00', '2023.07.1210:00', '2023.07.1210:00', '2023.07.1210:00', '2023.07.1210:00', '2023.07.1210:00', '2023.07.1210:00', '2023.07.1210:00', '2023.07.1210:00', '2023.07.1210:00', '2023.07.1210:00', '2023.07.1210:00', '2023.07.1210:00', '2023.07.1210:00', '2023.07.1210:00', '2023.07.1210:00', '2023.07.1210:00']\n"
     ]
    }
   ],
   "source": [
    "# 매각기일\n",
    "\n",
    "dates = soup.select('td.date')\n",
    "date_list=[]\n",
    "\n",
    "for i in range(len(dates)):\n",
    "    date_list.append(dates[i].text)\n",
    "    \n",
    "print(date_list)\n"
   ]
  },
  {
   "cell_type": "code",
   "execution_count": null,
   "id": "8a81a7a3",
   "metadata": {},
   "outputs": [],
   "source": []
  },
  {
   "cell_type": "code",
   "execution_count": null,
   "id": "985268c1",
   "metadata": {},
   "outputs": [],
   "source": []
  },
  {
   "cell_type": "code",
   "execution_count": 95,
   "id": "3bdfa7ff",
   "metadata": {},
   "outputs": [
    {
     "data": {
      "text/plain": [
       "30"
      ]
     },
     "execution_count": 95,
     "metadata": {},
     "output_type": "execute_result"
    }
   ],
   "source": [
    "len(num_list)"
   ]
  },
  {
   "cell_type": "code",
   "execution_count": 97,
   "id": "aebef4a6",
   "metadata": {},
   "outputs": [
    {
     "data": {
      "text/plain": [
       "{'num': ['20-108919',\n",
       "  '20-111953(1)',\n",
       "  '20-111953(2)',\n",
       "  '21-1705',\n",
       "  '21-2999',\n",
       "  '21-100851(3)',\n",
       "  '21-100851(4)',\n",
       "  '21-100851(5)',\n",
       "  '21-100851(9)',\n",
       "  '21-100851(11)',\n",
       "  '21-101278',\n",
       "  '21-103935',\n",
       "  '21-104853',\n",
       "  '21-106354(5)',\n",
       "  '21-107708',\n",
       "  '21-108473',\n",
       "  '21-110650(1)',\n",
       "  '21-110650(2)',\n",
       "  '21-110650(3)',\n",
       "  '21-110650(4)',\n",
       "  '21-111752(1)',\n",
       "  '21-111752(2)',\n",
       "  '21-111752(3)',\n",
       "  '21-111752(4)',\n",
       "  '21-111752(5)',\n",
       "  '21-111752(7)',\n",
       "  '21-111752(9)',\n",
       "  '21-111943',\n",
       "  '21-112137',\n",
       "  '21-112700'],\n",
       " 'types': ['다세대(빌라)',\n",
       "  '다세대(빌라)',\n",
       "  '다세대(빌라)',\n",
       "  '다세대(빌라)',\n",
       "  '근린상가',\n",
       "  '다세대(빌라)',\n",
       "  '다세대(빌라)',\n",
       "  '다세대(빌라)',\n",
       "  '다세대(빌라)',\n",
       "  '다세대(빌라)',\n",
       "  '다세대(빌라)',\n",
       "  '다세대(빌라)',\n",
       "  '다세대(빌라)',\n",
       "  '근린상가',\n",
       "  '다세대(빌라)',\n",
       "  '다세대(빌라)',\n",
       "  '아파트',\n",
       "  '다세대(빌라)',\n",
       "  '다세대(빌라)',\n",
       "  '다세대(빌라)',\n",
       "  '다세대(빌라)',\n",
       "  '다세대(빌라)',\n",
       "  '오피스텔',\n",
       "  '다세대(빌라)',\n",
       "  '다세대(빌라)',\n",
       "  '다세대(빌라)',\n",
       "  '다세대(빌라)',\n",
       "  '다세대(빌라)',\n",
       "  '오피스텔',\n",
       "  '다세대(빌라)'],\n",
       " 'price_1(감정가)': ['175,000,000',\n",
       "  '239,000,000',\n",
       "  '237,000,000',\n",
       "  '254,000,000',\n",
       "  '187,000,000',\n",
       "  '214,000,000',\n",
       "  '172,000,000',\n",
       "  '191,000,000',\n",
       "  '167,000,000',\n",
       "  '178,000,000',\n",
       "  '239,000,000',\n",
       "  '271,000,000',\n",
       "  '214,000,000',\n",
       "  '150,000,000',\n",
       "  '292,000,000',\n",
       "  '163,000,000',\n",
       "  '203,000,000',\n",
       "  '170,000,000',\n",
       "  '233,000,000',\n",
       "  '226,000,000',\n",
       "  '206,000,000',\n",
       "  '205,000,000',\n",
       "  '280,000,000',\n",
       "  '226,000,000',\n",
       "  '270,000,000',\n",
       "  '302,000,000',\n",
       "  '333,000,000',\n",
       "  '187,000,000',\n",
       "  '316,000,000',\n",
       "  '222,700,000'],\n",
       " 'price_2(최저입찰가)': ['3,153,000',\n",
       "  '2%',\n",
       "  '40,098,000',\n",
       "  '17%',\n",
       "  '39,762,000',\n",
       "  '17%',\n",
       "  '34,091,000',\n",
       "  '13%',\n",
       "  '49,021,000',\n",
       "  '26%',\n",
       "  '9,412,000',\n",
       "  '4%',\n",
       "  '7,565,000',\n",
       "  '4%',\n",
       "  '8,401,000',\n",
       "  '4%',\n",
       "  '7,345,000',\n",
       "  '4%',\n",
       "  '7,829,000',\n",
       "  '4%',\n",
       "  '8,409,000',\n",
       "  '4%',\n",
       "  '14,898,000',\n",
       "  '5%',\n",
       "  '7,530,000',\n",
       "  '4%',\n",
       "  '12,885,000',\n",
       "  '9%',\n",
       "  '20,066,000',\n",
       "  '7%'],\n",
       " 'dates': ['2023.07.1210:00',\n",
       "  '2023.07.1210:00',\n",
       "  '2023.07.1210:00',\n",
       "  '2023.07.1210:00',\n",
       "  '2023.07.1210:00',\n",
       "  '2023.07.1210:00',\n",
       "  '2023.07.1210:00',\n",
       "  '2023.07.1210:00',\n",
       "  '2023.07.1210:00',\n",
       "  '2023.07.1210:00',\n",
       "  '2023.07.1210:00',\n",
       "  '2023.07.1210:00',\n",
       "  '2023.07.1210:00',\n",
       "  '2023.07.1210:00',\n",
       "  '2023.07.1210:00',\n",
       "  '2023.07.1210:00',\n",
       "  '2023.07.1210:00',\n",
       "  '2023.07.1210:00',\n",
       "  '2023.07.1210:00',\n",
       "  '2023.07.1210:00',\n",
       "  '2023.07.1210:00',\n",
       "  '2023.07.1210:00',\n",
       "  '2023.07.1210:00',\n",
       "  '2023.07.1210:00',\n",
       "  '2023.07.1210:00',\n",
       "  '2023.07.1210:00',\n",
       "  '2023.07.1210:00',\n",
       "  '2023.07.1210:00',\n",
       "  '2023.07.1210:00',\n",
       "  '2023.07.1210:00']}"
      ]
     },
     "execution_count": 97,
     "metadata": {},
     "output_type": "execute_result"
    }
   ],
   "source": [
    "dic = {'num':num_list, 'types':type_list, 'price_1(감정가)':price1_list, 'price_2(최저입찰가)':price2_list, 'dates':date_list}\n",
    "dic"
   ]
  },
  {
   "cell_type": "code",
   "execution_count": 101,
   "id": "52823d62",
   "metadata": {},
   "outputs": [],
   "source": [
    "import pandas as pd"
   ]
  },
  {
   "cell_type": "code",
   "execution_count": 102,
   "id": "54387161",
   "metadata": {},
   "outputs": [
    {
     "name": "stdout",
     "output_type": "stream",
     "text": [
      "              num    types price_1(감정가) price_2(최저입찰가)            dates\n",
      "0       20-108919  다세대(빌라)  175,000,000      3,153,000  2023.07.1210:00\n",
      "1    20-111953(1)  다세대(빌라)  239,000,000             2%  2023.07.1210:00\n",
      "2    20-111953(2)  다세대(빌라)  237,000,000     40,098,000  2023.07.1210:00\n",
      "3         21-1705  다세대(빌라)  254,000,000            17%  2023.07.1210:00\n",
      "4         21-2999     근린상가  187,000,000     39,762,000  2023.07.1210:00\n",
      "5    21-100851(3)  다세대(빌라)  214,000,000            17%  2023.07.1210:00\n",
      "6    21-100851(4)  다세대(빌라)  172,000,000     34,091,000  2023.07.1210:00\n",
      "7    21-100851(5)  다세대(빌라)  191,000,000            13%  2023.07.1210:00\n",
      "8    21-100851(9)  다세대(빌라)  167,000,000     49,021,000  2023.07.1210:00\n",
      "9   21-100851(11)  다세대(빌라)  178,000,000            26%  2023.07.1210:00\n",
      "10      21-101278  다세대(빌라)  239,000,000      9,412,000  2023.07.1210:00\n",
      "11      21-103935  다세대(빌라)  271,000,000             4%  2023.07.1210:00\n",
      "12      21-104853  다세대(빌라)  214,000,000      7,565,000  2023.07.1210:00\n",
      "13   21-106354(5)     근린상가  150,000,000             4%  2023.07.1210:00\n",
      "14      21-107708  다세대(빌라)  292,000,000      8,401,000  2023.07.1210:00\n",
      "15      21-108473  다세대(빌라)  163,000,000             4%  2023.07.1210:00\n",
      "16   21-110650(1)      아파트  203,000,000      7,345,000  2023.07.1210:00\n",
      "17   21-110650(2)  다세대(빌라)  170,000,000             4%  2023.07.1210:00\n",
      "18   21-110650(3)  다세대(빌라)  233,000,000      7,829,000  2023.07.1210:00\n",
      "19   21-110650(4)  다세대(빌라)  226,000,000             4%  2023.07.1210:00\n",
      "20   21-111752(1)  다세대(빌라)  206,000,000      8,409,000  2023.07.1210:00\n",
      "21   21-111752(2)  다세대(빌라)  205,000,000             4%  2023.07.1210:00\n",
      "22   21-111752(3)     오피스텔  280,000,000     14,898,000  2023.07.1210:00\n",
      "23   21-111752(4)  다세대(빌라)  226,000,000             5%  2023.07.1210:00\n",
      "24   21-111752(5)  다세대(빌라)  270,000,000      7,530,000  2023.07.1210:00\n",
      "25   21-111752(7)  다세대(빌라)  302,000,000             4%  2023.07.1210:00\n",
      "26   21-111752(9)  다세대(빌라)  333,000,000     12,885,000  2023.07.1210:00\n",
      "27      21-111943  다세대(빌라)  187,000,000             9%  2023.07.1210:00\n",
      "28      21-112137     오피스텔  316,000,000     20,066,000  2023.07.1210:00\n",
      "29      21-112700  다세대(빌라)  222,700,000             7%  2023.07.1210:00\n"
     ]
    }
   ],
   "source": [
    "\n",
    "\n",
    "# 데이터프레임 생성\n",
    "data = pd.DataFrame(dic)\n",
    "\n",
    "# 데이터프레임 출력\n",
    "print(data)"
   ]
  },
  {
   "cell_type": "markdown",
   "id": "8b033ba4",
   "metadata": {},
   "source": [
    "선생님 풀이 "
   ]
  },
  {
   "cell_type": "code",
   "execution_count": 110,
   "id": "89d5e64e",
   "metadata": {},
   "outputs": [],
   "source": [
    "nums=soup.select('td.num')\n",
    "types=soup.select('tbody#td>tr>td:nth-child(3)')\n",
    "# td:nth-child 사용!\n",
    "adds = soup.select('td.area>a')\n",
    "price1 = soup.select('p.num_type1>strong')\n",
    "price2 = soup.select('p.num_type2>strong')\n",
    "# soup.select('tbody#td>tr>td:nth-child(6)')\n",
    "\n",
    "# 근접후행:td의 클래스 이름이 price인 태그의 아래!\n",
    "status = soup.select('td.price+td')"
   ]
  },
  {
   "cell_type": "code",
   "execution_count": 111,
   "id": "8e2ceb1f",
   "metadata": {},
   "outputs": [],
   "source": [
    "num_list=[]\n",
    "type_list=[]\n",
    "add_list=[]\n",
    "price1_list=[]\n",
    "price2_list=[]\n",
    "status_list=[]\n",
    "date_list=[]\n",
    "\n",
    "\n",
    "for i in range(len(nums)):\n",
    "    num_list.append(nums[i].text)"
   ]
  },
  {
   "cell_type": "code",
   "execution_count": 116,
   "id": "d8ee035b",
   "metadata": {},
   "outputs": [],
   "source": [
    "#페이지 넘기기\n",
    "next_page=driver.find_element(By.CSS_SELECTOR, 'div.pagnavi>strong+a')\n",
    "next_page.click()"
   ]
  },
  {
   "cell_type": "markdown",
   "id": "c649e952",
   "metadata": {},
   "source": [
    "# 코드 합치기"
   ]
  },
  {
   "cell_type": "code",
   "execution_count": 124,
   "id": "1b33e2e1",
   "metadata": {},
   "outputs": [
    {
     "name": "stdout",
     "output_type": "stream",
     "text": [
      "마지막 페이지\n"
     ]
    }
   ],
   "source": [
    "driver = wb.Chrome()\n",
    "driver.get('https://auction1.land.naver.com/auction/ca_list.php')\n",
    "driver.maximize_window()\n",
    "time.sleep(1)\n",
    "\n",
    "num_list=[]\n",
    "type_list=[]\n",
    "add_list=[]\n",
    "price1_list=[]\n",
    "price2_list=[]\n",
    "status_list=[]\n",
    "date_list=[]\n",
    "\n",
    "while True:\n",
    "    soup=bs(driver.page_source, 'lxml')\n",
    "    \n",
    "    nums=soup.select('td.num')\n",
    "    types=soup.select('tbody#tb>tr>td:nth-child(3)')\n",
    "# td:nth-child 사용!\n",
    "    adds = soup.select('td.area>a')\n",
    "    price1 = soup.select('p.num_type1>strong')\n",
    "    price2 = soup.select('p.num_type2>strong')\n",
    "# soup.select('tbody#td>tr>td:nth-child(6)')\n",
    "\n",
    "# 근접후행:td의 클래스 이름이 price인 태그의 아래!\n",
    "    status = soup.select('td.price+td')\n",
    "    dates = soup.select('td.date')\n",
    "    \n",
    "    for i in range(len(nums)):\n",
    "        num_list.append(nums[i].text)\n",
    "        type_list.append(types[i].text)\n",
    "        add_list.append(adds[i].text)\n",
    "        price1_list.append(price1[i].text)\n",
    "        price2_list.append(price2[i].text)\n",
    "        status_list.append(status[i].text)\n",
    "        date_list.append(dates[i].text)\n",
    "        \n",
    "        \n",
    "    try:\n",
    "        next_page=driver.find_element(By.CSS_SELECTOR, 'div.pagnavi>strong+a')\n",
    "        next_page.click()\n",
    "        time.sleep(1)\n",
    "        \n",
    "    except:\n",
    "        print(\"마지막 페이지\")\n",
    "        break\n",
    "\n",
    "driver.close()  \n",
    "\n",
    "dic = {\"사건번호\": num_list,\n",
    "      \"물건 종류\": type_list,\n",
    "      \"소재지\" : add_list,\n",
    "      \"감정가\" : price1_list,\n",
    "      \"최저 입찰가\": price2_list,\n",
    "      \"물건상태\" : status_list,\n",
    "      \"매각 기일\": date_list}\n",
    "\n",
    "df=pd.DataFrame(dic)\n",
    "df\n",
    "\n",
    "#인덱스번호 1부터 시작하도록 변경\n",
    "df.index = df.index+1"
   ]
  },
  {
   "cell_type": "code",
   "execution_count": 125,
   "id": "4b407961",
   "metadata": {},
   "outputs": [
    {
     "data": {
      "text/html": [
       "<div>\n",
       "<style scoped>\n",
       "    .dataframe tbody tr th:only-of-type {\n",
       "        vertical-align: middle;\n",
       "    }\n",
       "\n",
       "    .dataframe tbody tr th {\n",
       "        vertical-align: top;\n",
       "    }\n",
       "\n",
       "    .dataframe thead th {\n",
       "        text-align: right;\n",
       "    }\n",
       "</style>\n",
       "<table border=\"1\" class=\"dataframe\">\n",
       "  <thead>\n",
       "    <tr style=\"text-align: right;\">\n",
       "      <th></th>\n",
       "      <th>사건번호</th>\n",
       "      <th>물건 종류</th>\n",
       "      <th>소재지</th>\n",
       "      <th>감정가</th>\n",
       "      <th>최저 입찰가</th>\n",
       "      <th>물건상태</th>\n",
       "      <th>매각 기일</th>\n",
       "    </tr>\n",
       "  </thead>\n",
       "  <tbody>\n",
       "    <tr>\n",
       "      <th>0</th>\n",
       "      <td>20-108919</td>\n",
       "      <td>다세대(빌라)</td>\n",
       "      <td>서울특별시 강서구 화곡동 61-49, 영광빌리지 4층 402호</td>\n",
       "      <td>175,000,000</td>\n",
       "      <td>3,153,000</td>\n",
       "      <td>유찰18회2%</td>\n",
       "      <td>2023.07.1210:00</td>\n",
       "    </tr>\n",
       "    <tr>\n",
       "      <th>1</th>\n",
       "      <td>20-111953(1)</td>\n",
       "      <td>다세대(빌라)</td>\n",
       "      <td>서울특별시 구로구 구로동 88-17 외2필지, 비체빌 5층 503호</td>\n",
       "      <td>239,000,000</td>\n",
       "      <td>40,098,000</td>\n",
       "      <td>유찰8회17%</td>\n",
       "      <td>2023.07.1210:00</td>\n",
       "    </tr>\n",
       "    <tr>\n",
       "      <th>2</th>\n",
       "      <td>20-111953(2)</td>\n",
       "      <td>다세대(빌라)</td>\n",
       "      <td>서울특별시 구로구 구로동 88-17 외2필지, 비체빌 5층 504호</td>\n",
       "      <td>237,000,000</td>\n",
       "      <td>39,762,000</td>\n",
       "      <td>유찰8회17%</td>\n",
       "      <td>2023.07.1210:00</td>\n",
       "    </tr>\n",
       "    <tr>\n",
       "      <th>3</th>\n",
       "      <td>21-1705</td>\n",
       "      <td>다세대(빌라)</td>\n",
       "      <td>서울특별시 관악구 신림동 646-317 외2필지, 대림아트빌 2층 201호</td>\n",
       "      <td>254,000,000</td>\n",
       "      <td>34,091,000</td>\n",
       "      <td>유찰9회13%</td>\n",
       "      <td>2023.07.1210:00</td>\n",
       "    </tr>\n",
       "    <tr>\n",
       "      <th>4</th>\n",
       "      <td>21-2999</td>\n",
       "      <td>근린상가</td>\n",
       "      <td>서울특별시 중구 을지로6가 21-31 외3필지, 동대문패션티브이 1층 1091호</td>\n",
       "      <td>187,000,000</td>\n",
       "      <td>49,021,000</td>\n",
       "      <td>유찰6회26%</td>\n",
       "      <td>2023.07.1210:00</td>\n",
       "    </tr>\n",
       "    <tr>\n",
       "      <th>...</th>\n",
       "      <td>...</td>\n",
       "      <td>...</td>\n",
       "      <td>...</td>\n",
       "      <td>...</td>\n",
       "      <td>...</td>\n",
       "      <td>...</td>\n",
       "      <td>...</td>\n",
       "    </tr>\n",
       "    <tr>\n",
       "      <th>1708</th>\n",
       "      <td>23-818(3)</td>\n",
       "      <td>승용차</td>\n",
       "      <td>서울특별시 강서구 방화동 78-5, 금화주차장</td>\n",
       "      <td>14,000,000</td>\n",
       "      <td>11,200,000</td>\n",
       "      <td>유찰1회80%</td>\n",
       "      <td>2023.08.2310:00</td>\n",
       "    </tr>\n",
       "    <tr>\n",
       "      <th>1709</th>\n",
       "      <td>21-112151</td>\n",
       "      <td>다세대(빌라)</td>\n",
       "      <td>서울특별시 강서구 등촌동 366-119 외1필지, 서인뷰그라스 3층 302호</td>\n",
       "      <td>561,000,000</td>\n",
       "      <td>117,650,000</td>\n",
       "      <td>유찰7회21%</td>\n",
       "      <td>2023.08.3010:00</td>\n",
       "    </tr>\n",
       "    <tr>\n",
       "      <th>1710</th>\n",
       "      <td>22-3339</td>\n",
       "      <td>다세대(빌라)</td>\n",
       "      <td>서울특별시 강서구 화곡동 56-663, 신아빌라 3층 302호</td>\n",
       "      <td>190,000,000</td>\n",
       "      <td>152,000,000</td>\n",
       "      <td>유찰1회80%</td>\n",
       "      <td>2023.08.3010:00</td>\n",
       "    </tr>\n",
       "    <tr>\n",
       "      <th>1711</th>\n",
       "      <td>22-104096</td>\n",
       "      <td>다세대(빌라)</td>\n",
       "      <td>서울특별시 강서구 화곡동 1040, 해비치빌 2층 201호</td>\n",
       "      <td>283,000,000</td>\n",
       "      <td>283,000,000</td>\n",
       "      <td>유찰4회100%</td>\n",
       "      <td>2023.08.3010:00</td>\n",
       "    </tr>\n",
       "    <tr>\n",
       "      <th>1712</th>\n",
       "      <td>22-106580</td>\n",
       "      <td>아파트</td>\n",
       "      <td>서울특별시 영등포구 대림동 1124, 신대림신동아파밀리에아파트 102동 6층 602호</td>\n",
       "      <td>463,000,000</td>\n",
       "      <td>296,320,000</td>\n",
       "      <td>유찰2회64%</td>\n",
       "      <td>2023.08.3010:00</td>\n",
       "    </tr>\n",
       "  </tbody>\n",
       "</table>\n",
       "<p>1713 rows × 7 columns</p>\n",
       "</div>"
      ],
      "text/plain": [
       "              사건번호    물건 종류                                              소재지  \\\n",
       "0        20-108919  다세대(빌라)               서울특별시 강서구 화곡동 61-49, 영광빌리지 4층 402호   \n",
       "1     20-111953(1)  다세대(빌라)            서울특별시 구로구 구로동 88-17 외2필지, 비체빌 5층 503호   \n",
       "2     20-111953(2)  다세대(빌라)            서울특별시 구로구 구로동 88-17 외2필지, 비체빌 5층 504호   \n",
       "3          21-1705  다세대(빌라)        서울특별시 관악구 신림동 646-317 외2필지, 대림아트빌 2층 201호   \n",
       "4          21-2999     근린상가     서울특별시 중구 을지로6가 21-31 외3필지, 동대문패션티브이 1층 1091호   \n",
       "...            ...      ...                                              ...   \n",
       "1708     23-818(3)      승용차                        서울특별시 강서구 방화동 78-5, 금화주차장   \n",
       "1709     21-112151  다세대(빌라)       서울특별시 강서구 등촌동 366-119 외1필지, 서인뷰그라스 3층 302호   \n",
       "1710       22-3339  다세대(빌라)               서울특별시 강서구 화곡동 56-663, 신아빌라 3층 302호   \n",
       "1711     22-104096  다세대(빌라)                 서울특별시 강서구 화곡동 1040, 해비치빌 2층 201호   \n",
       "1712     22-106580      아파트  서울특별시 영등포구 대림동 1124, 신대림신동아파밀리에아파트 102동 6층 602호   \n",
       "\n",
       "              감정가       최저 입찰가      물건상태            매각 기일  \n",
       "0     175,000,000    3,153,000   유찰18회2%  2023.07.1210:00  \n",
       "1     239,000,000   40,098,000   유찰8회17%  2023.07.1210:00  \n",
       "2     237,000,000   39,762,000   유찰8회17%  2023.07.1210:00  \n",
       "3     254,000,000   34,091,000   유찰9회13%  2023.07.1210:00  \n",
       "4     187,000,000   49,021,000   유찰6회26%  2023.07.1210:00  \n",
       "...           ...          ...       ...              ...  \n",
       "1708   14,000,000   11,200,000   유찰1회80%  2023.08.2310:00  \n",
       "1709  561,000,000  117,650,000   유찰7회21%  2023.08.3010:00  \n",
       "1710  190,000,000  152,000,000   유찰1회80%  2023.08.3010:00  \n",
       "1711  283,000,000  283,000,000  유찰4회100%  2023.08.3010:00  \n",
       "1712  463,000,000  296,320,000   유찰2회64%  2023.08.3010:00  \n",
       "\n",
       "[1713 rows x 7 columns]"
      ]
     },
     "execution_count": 125,
     "metadata": {},
     "output_type": "execute_result"
    }
   ],
   "source": [
    "df=pd.DataFrame(dic)\n",
    "df"
   ]
  },
  {
   "cell_type": "code",
   "execution_count": null,
   "id": "c4d48dc4",
   "metadata": {},
   "outputs": [],
   "source": []
  }
 ],
 "metadata": {
  "kernelspec": {
   "display_name": "Python 3 (ipykernel)",
   "language": "python",
   "name": "python3"
  },
  "language_info": {
   "codemirror_mode": {
    "name": "ipython",
    "version": 3
   },
   "file_extension": ".py",
   "mimetype": "text/x-python",
   "name": "python",
   "nbconvert_exporter": "python",
   "pygments_lexer": "ipython3",
   "version": "3.10.9"
  }
 },
 "nbformat": 4,
 "nbformat_minor": 5
}
