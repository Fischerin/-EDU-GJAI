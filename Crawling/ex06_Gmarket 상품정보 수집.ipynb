{
 "cells": [
  {
   "cell_type": "code",
   "execution_count": 2,
   "id": "c1a9a12e",
   "metadata": {},
   "outputs": [],
   "source": [
    "from selenium import webdriver as wb #통제\n",
    "from selenium.webdriver.common.keys import Keys #입력\n",
    "from selenium.webdriver.common.by import By #선택자 선택의 기준\n",
    "from bs4 import BeautifulSoup as bs\n",
    "import time"
   ]
  },
  {
   "cell_type": "code",
   "execution_count": 3,
   "id": "c37680ec",
   "metadata": {},
   "outputs": [],
   "source": [
    "#1. Chrome 브라우저 실행\n",
    "#1.1 gmarket사이트로 이동\n",
    "\n",
    "driver = wb.Chrome()\n",
    "driver.get('http://corners.gmarket.co.kr/Bestsellers')"
   ]
  },
  {
   "cell_type": "code",
   "execution_count": 5,
   "id": "2332cb0e",
   "metadata": {},
   "outputs": [],
   "source": [
    "#2. 첫번째 상품 클릭해서 페이지 이동\n",
    "#hint - 상품의 이미지를 클릭해서 이동\n",
    "\n",
    "\n",
    "btn_img = driver.find_element(By.CLASS_NAME, 'image__lazy.image__load')\n",
    "btn_img.click()"
   ]
  },
  {
   "cell_type": "code",
   "execution_count": 16,
   "id": "35a33b87",
   "metadata": {},
   "outputs": [
    {
     "name": "stdout",
     "output_type": "stream",
     "text": [
      "(한국투자증권) 온라인 금융상품권 5만원권 \n",
      "50,000원\n"
     ]
    }
   ],
   "source": [
    "#3-1. bs 객체화 진행\n",
    "soup=bs(driver.page_source, 'lxml')\n",
    "\n",
    "\n",
    "#3. 상품의 이름 정보 수집\n",
    "name=soup.select('h1.itemtit')\n",
    "print(name[0].text)\n",
    "\n",
    "\n",
    "#3-3. 상품의 가격정보 수집\n",
    "price=soup.select('strong.price_real')\n",
    "print(price[0].text)\n"
   ]
  },
  {
   "cell_type": "code",
   "execution_count": 29,
   "id": "4228e6f0",
   "metadata": {},
   "outputs": [],
   "source": [
    "#3-4. 상품의 마지막 카테고리 정보 수집 \n",
    "driver = wb.Chrome()\n",
    "driver.get('http://browse.gmarket.co.kr/list?category=300028167')\n",
    "soup=bs(driver.page_source, 'lxml')"
   ]
  },
  {
   "cell_type": "code",
   "execution_count": 32,
   "id": "3c9ec3a6",
   "metadata": {},
   "outputs": [
    {
     "name": "stdout",
     "output_type": "stream",
     "text": [
      "온라인/포인트 상품권\n"
     ]
    }
   ],
   "source": [
    "cat=soup.select('span.text.text--active')\n",
    "print(cat[0].text)"
   ]
  },
  {
   "cell_type": "code",
   "execution_count": 34,
   "id": "66abc3a4",
   "metadata": {},
   "outputs": [
    {
     "name": "stdout",
     "output_type": "stream",
     "text": [
      "(한국투자증권) 온라인 금융상품권 5만원권  50,000원 온라인/포인트 상품권\n"
     ]
    }
   ],
   "source": [
    "print(name[0].text, price[0].text, cat[0].text)"
   ]
  },
  {
   "cell_type": "code",
   "execution_count": 35,
   "id": "f6e0b722",
   "metadata": {},
   "outputs": [],
   "source": [
    "#4. 뒤로가기\n",
    "\n",
    "driver.back()"
   ]
  },
  {
   "cell_type": "markdown",
   "id": "429bc81e",
   "metadata": {},
   "source": [
    "- 코드 합치기"
   ]
  },
  {
   "cell_type": "code",
   "execution_count": 39,
   "id": "745e049d",
   "metadata": {},
   "outputs": [],
   "source": [
    "driver = wb.Chrome()\n",
    "driver.get('http://corners.gmarket.co.kr/Bestsellers')\n",
    "time.sleep(1)\n",
    "\n",
    "\n",
    "name_list = []\n",
    "price_list = []\n",
    "cate_list= []\n",
    "\n",
    "for i in range(10):\n",
    "    btn_img = driver.find_elements(By.CLASS_NAME, 'image__lazy.image__load')\n",
    "    btn_img[i].click()\n",
    "    time.sleep(1)\n",
    "\n",
    "\n",
    "    soup=bs(driver.page_source, 'lxml')\n",
    "    name=soup.select_one('#itemcase_basic >div >h1').text\n",
    "    price=soup.select_one('strong.price_real').text\n",
    "    cate = soup.select('li.on>a')[0].text\n",
    "\n",
    "    name_list.append(name)\n",
    "    price_list.append(price)\n",
    "    cate_list.append(cate)\n",
    "\n",
    "    driver.back()\n",
    "    time.sleep(1)\n"
   ]
  },
  {
   "cell_type": "code",
   "execution_count": null,
   "id": "3d4c6788",
   "metadata": {},
   "outputs": [],
   "source": []
  },
  {
   "cell_type": "code",
   "execution_count": null,
   "id": "222c1191",
   "metadata": {},
   "outputs": [],
   "source": []
  },
  {
   "cell_type": "code",
   "execution_count": null,
   "id": "fd046cec",
   "metadata": {},
   "outputs": [],
   "source": []
  },
  {
   "cell_type": "code",
   "execution_count": null,
   "id": "d31e84b5",
   "metadata": {},
   "outputs": [],
   "source": []
  },
  {
   "cell_type": "code",
   "execution_count": null,
   "id": "4c58a86f",
   "metadata": {},
   "outputs": [],
   "source": []
  },
  {
   "cell_type": "code",
   "execution_count": null,
   "id": "a7105d6c",
   "metadata": {},
   "outputs": [],
   "source": []
  },
  {
   "cell_type": "code",
   "execution_count": null,
   "id": "cb9df357",
   "metadata": {},
   "outputs": [],
   "source": []
  },
  {
   "cell_type": "code",
   "execution_count": null,
   "id": "06670f40",
   "metadata": {},
   "outputs": [],
   "source": []
  }
 ],
 "metadata": {
  "kernelspec": {
   "display_name": "Python 3 (ipykernel)",
   "language": "python",
   "name": "python3"
  },
  "language_info": {
   "codemirror_mode": {
    "name": "ipython",
    "version": 3
   },
   "file_extension": ".py",
   "mimetype": "text/x-python",
   "name": "python",
   "nbconvert_exporter": "python",
   "pygments_lexer": "ipython3",
   "version": "3.10.9"
  }
 },
 "nbformat": 4,
 "nbformat_minor": 5
}
